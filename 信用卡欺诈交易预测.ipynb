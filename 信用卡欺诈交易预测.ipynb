{
 "cells": [
  {
   "cell_type": "markdown",
   "metadata": {
    "toc": true
   },
   "source": [
    "<h1>Table of Contents<span class=\"tocSkip\"></span></h1>\n",
    "<div class=\"toc\"><ul class=\"toc-item\"><li><ul class=\"toc-item\"><li><span><a href=\"#项目介绍\" data-toc-modified-id=\"项目介绍-0.1\">项目介绍</a></span><ul class=\"toc-item\"><li><ul class=\"toc-item\"><li><span><a href=\"#关键词\" data-toc-modified-id=\"关键词-0.1.0.1\">关键词</a></span></li></ul></li></ul></li></ul></li><li><span><a href=\"#EDA-数据探索\" data-toc-modified-id=\"EDA-数据探索-1\">EDA 数据探索</a></span><ul class=\"toc-item\"><li><ul class=\"toc-item\"><li><ul class=\"toc-item\"><li><span><a href=\"#缺失值检查\" data-toc-modified-id=\"缺失值检查-1.0.0.1\">缺失值检查</a></span></li></ul></li><li><span><a href=\"#交易类别分布\" data-toc-modified-id=\"交易类别分布-1.0.1\">交易类别分布</a></span></li></ul></li><li><span><a href=\"#探索交易时间分布\" data-toc-modified-id=\"探索交易时间分布-1.1\">探索交易时间分布</a></span></li><li><span><a href=\"#探索交易金额分布\" data-toc-modified-id=\"探索交易金额分布-1.2\">探索交易金额分布</a></span></li><li><span><a href=\"#探索交易时间与金额之间的分布关系\" data-toc-modified-id=\"探索交易时间与金额之间的分布关系-1.3\">探索交易时间与金额之间的分布关系</a></span></li></ul></li><li><span><a href=\"#数据预处理\" data-toc-modified-id=\"数据预处理-2\">数据预处理</a></span><ul class=\"toc-item\"><li><span><a href=\"#数据缩放（标准化）\" data-toc-modified-id=\"数据缩放（标准化）-2.1\">数据缩放（标准化）</a></span></li><li><span><a href=\"#平衡样本\" data-toc-modified-id=\"平衡样本-2.2\">平衡样本</a></span><ul class=\"toc-item\"><li><span><a href=\"#不平衡样本\" data-toc-modified-id=\"不平衡样本-2.2.1\">不平衡样本</a></span></li></ul></li><li><span><a href=\"#3种方式平衡样本\" data-toc-modified-id=\"3种方式平衡样本-2.3\">3种方式平衡样本</a></span><ul class=\"toc-item\"><li><span><a href=\"#Step-1.-训练集与测试集切分\" data-toc-modified-id=\"Step-1.-训练集与测试集切分-2.3.1\">Step 1. 训练集与测试集切分</a></span></li><li><span><a href=\"#Step-2.-对训练数据进行样本平衡\" data-toc-modified-id=\"Step-2.-对训练数据进行样本平衡-2.3.2\">Step 2. 对训练数据进行样本平衡</a></span></li></ul></li></ul></li><li><span><a href=\"#建模与模型评估\" data-toc-modified-id=\"建模与模型评估-3\">建模与模型评估</a></span><ul class=\"toc-item\"><li><span><a href=\"#LR建模\" data-toc-modified-id=\"LR建模-3.1\">LR建模</a></span><ul class=\"toc-item\"><li><span><a href=\"#原始训练集-vs-过采样训练集-建模效果\" data-toc-modified-id=\"原始训练集-vs-过采样训练集-建模效果-3.1.1\">原始训练集 vs 过采样训练集 建模效果</a></span></li><li><span><a href=\"#原始数据集调整类别权重参数后建模效果\" data-toc-modified-id=\"原始数据集调整类别权重参数后建模效果-3.1.2\">原始数据集调整类别权重参数后建模效果</a></span></li><li><span><a href=\"#绘制混淆矩阵\" data-toc-modified-id=\"绘制混淆矩阵-3.1.3\">绘制混淆矩阵</a></span></li></ul></li><li><span><a href=\"#决策树建模\" data-toc-modified-id=\"决策树建模-3.2\">决策树建模</a></span><ul class=\"toc-item\"><li><span><a href=\"#绘制决策树\" data-toc-modified-id=\"绘制决策树-3.2.1\">绘制决策树</a></span></li></ul></li></ul></li><li><span><a href=\"#可视化模型效果\" data-toc-modified-id=\"可视化模型效果-4\">可视化模型效果</a></span><ul class=\"toc-item\"><li><span><a href=\"#分类器效果对比\" data-toc-modified-id=\"分类器效果对比-4.1\">分类器效果对比</a></span><ul class=\"toc-item\"><li><span><a href=\"#绘制ROC曲线\" data-toc-modified-id=\"绘制ROC曲线-4.1.1\">绘制ROC曲线</a></span></li></ul></li></ul></li></ul></div>"
   ]
  },
  {
   "cell_type": "markdown",
   "metadata": {
    "id": "144C7063FFDC44F4A487898BC7E3D757",
    "jupyter": {},
    "mdEditEnable": false,
    "scrolled": false,
    "slideshow": {
     "slide_type": "slide"
    },
    "tags": []
   },
   "source": [
    "## 项目介绍\n",
    "\n",
    "该项目使用的数据集是脱敏过且经过PCA处理的数据，每行记录代表一条交易记录。\n",
    "v1-v28代表的是经过PCA降维获取到的28个主成成分变量，但是由于经过了脱敏处理，所以并不了解这个28个特征具体指代什么，如果可以了解到的话会更有助于分析。\n",
    "\n",
    "#### 关键词\n",
    "EDA数据探索、样本平衡、逻辑回归、决策树、模型调参、模型评估"
   ]
  },
  {
   "cell_type": "code",
   "execution_count": 8,
   "metadata": {},
   "outputs": [],
   "source": [
    "# 使用前卸载旧版本plotly，安装新版本\n",
    "# pip uninstall plotly\n",
    "\n",
    "# pip install plotly==4.14.3  -i https://pypi.tuna.tsinghua.edu.cn/simple  --trusted-host pypi.tuna.tsinghua.edu.cn"
   ]
  },
  {
   "cell_type": "code",
   "execution_count": 9,
   "metadata": {
    "id": "496D7270AF0F4E69B7A1188D2606414A",
    "jupyter": {},
    "slideshow": {
     "slide_type": "slide"
    },
    "tags": []
   },
   "outputs": [],
   "source": [
    "import numpy as np\n",
    "import pandas as pd\n",
    "import time\n",
    "\n",
    "import plotly.express as px\n",
    "import matplotlib.pyplot as plt"
   ]
  },
  {
   "cell_type": "code",
   "execution_count": 10,
   "metadata": {
    "id": "0C3CFF7D51DA46D2B44A1F9E7FDA7FD6",
    "jupyter": {},
    "slideshow": {
     "slide_type": "slide"
    },
    "tags": []
   },
   "outputs": [],
   "source": [
    "import warnings\n",
    "warnings.filterwarnings(\"ignore\")"
   ]
  },
  {
   "cell_type": "markdown",
   "metadata": {
    "id": "F296C92A02834AD78113BEB35F9AA9B8",
    "jupyter": {},
    "mdEditEnable": false,
    "slideshow": {
     "slide_type": "slide"
    },
    "tags": []
   },
   "source": [
    "# EDA 数据探索"
   ]
  },
  {
   "cell_type": "code",
   "execution_count": 11,
   "metadata": {
    "id": "9A0331A50F1840428F6A0460EB459F91",
    "jupyter": {},
    "slideshow": {
     "slide_type": "slide"
    },
    "tags": []
   },
   "outputs": [
    {
     "data": {
      "text/plain": [
       "(284807, 31)"
      ]
     },
     "execution_count": 11,
     "metadata": {},
     "output_type": "execute_result"
    }
   ],
   "source": [
    "data = pd.read_csv('./creditcardfraud.csv')\n",
    "data.shape"
   ]
  },
  {
   "cell_type": "code",
   "execution_count": 12,
   "metadata": {
    "id": "807CD5D6E97744328ADB1B197E481851",
    "jupyter": {},
    "slideshow": {
     "slide_type": "slide"
    },
    "tags": []
   },
   "outputs": [
    {
     "data": {
      "text/html": [
       "<div>\n",
       "<style scoped>\n",
       "    .dataframe tbody tr th:only-of-type {\n",
       "        vertical-align: middle;\n",
       "    }\n",
       "\n",
       "    .dataframe tbody tr th {\n",
       "        vertical-align: top;\n",
       "    }\n",
       "\n",
       "    .dataframe thead th {\n",
       "        text-align: right;\n",
       "    }\n",
       "</style>\n",
       "<table border=\"1\" class=\"dataframe\">\n",
       "  <thead>\n",
       "    <tr style=\"text-align: right;\">\n",
       "      <th></th>\n",
       "      <th>Time</th>\n",
       "      <th>V1</th>\n",
       "      <th>V2</th>\n",
       "      <th>V3</th>\n",
       "      <th>V4</th>\n",
       "      <th>V5</th>\n",
       "      <th>V6</th>\n",
       "      <th>V7</th>\n",
       "      <th>V8</th>\n",
       "      <th>V9</th>\n",
       "      <th>...</th>\n",
       "      <th>V21</th>\n",
       "      <th>V22</th>\n",
       "      <th>V23</th>\n",
       "      <th>V24</th>\n",
       "      <th>V25</th>\n",
       "      <th>V26</th>\n",
       "      <th>V27</th>\n",
       "      <th>V28</th>\n",
       "      <th>Amount</th>\n",
       "      <th>Class</th>\n",
       "    </tr>\n",
       "  </thead>\n",
       "  <tbody>\n",
       "    <tr>\n",
       "      <th>0</th>\n",
       "      <td>0.0</td>\n",
       "      <td>-1.359807</td>\n",
       "      <td>-0.072781</td>\n",
       "      <td>2.536347</td>\n",
       "      <td>1.378155</td>\n",
       "      <td>-0.338321</td>\n",
       "      <td>0.462388</td>\n",
       "      <td>0.239599</td>\n",
       "      <td>0.098698</td>\n",
       "      <td>0.363787</td>\n",
       "      <td>...</td>\n",
       "      <td>-0.018307</td>\n",
       "      <td>0.277838</td>\n",
       "      <td>-0.110474</td>\n",
       "      <td>0.066928</td>\n",
       "      <td>0.128539</td>\n",
       "      <td>-0.189115</td>\n",
       "      <td>0.133558</td>\n",
       "      <td>-0.021053</td>\n",
       "      <td>149.62</td>\n",
       "      <td>0</td>\n",
       "    </tr>\n",
       "    <tr>\n",
       "      <th>1</th>\n",
       "      <td>0.0</td>\n",
       "      <td>1.191857</td>\n",
       "      <td>0.266151</td>\n",
       "      <td>0.166480</td>\n",
       "      <td>0.448154</td>\n",
       "      <td>0.060018</td>\n",
       "      <td>-0.082361</td>\n",
       "      <td>-0.078803</td>\n",
       "      <td>0.085102</td>\n",
       "      <td>-0.255425</td>\n",
       "      <td>...</td>\n",
       "      <td>-0.225775</td>\n",
       "      <td>-0.638672</td>\n",
       "      <td>0.101288</td>\n",
       "      <td>-0.339846</td>\n",
       "      <td>0.167170</td>\n",
       "      <td>0.125895</td>\n",
       "      <td>-0.008983</td>\n",
       "      <td>0.014724</td>\n",
       "      <td>2.69</td>\n",
       "      <td>0</td>\n",
       "    </tr>\n",
       "    <tr>\n",
       "      <th>2</th>\n",
       "      <td>1.0</td>\n",
       "      <td>-1.358354</td>\n",
       "      <td>-1.340163</td>\n",
       "      <td>1.773209</td>\n",
       "      <td>0.379780</td>\n",
       "      <td>-0.503198</td>\n",
       "      <td>1.800499</td>\n",
       "      <td>0.791461</td>\n",
       "      <td>0.247676</td>\n",
       "      <td>-1.514654</td>\n",
       "      <td>...</td>\n",
       "      <td>0.247998</td>\n",
       "      <td>0.771679</td>\n",
       "      <td>0.909412</td>\n",
       "      <td>-0.689281</td>\n",
       "      <td>-0.327642</td>\n",
       "      <td>-0.139097</td>\n",
       "      <td>-0.055353</td>\n",
       "      <td>-0.059752</td>\n",
       "      <td>378.66</td>\n",
       "      <td>0</td>\n",
       "    </tr>\n",
       "  </tbody>\n",
       "</table>\n",
       "<p>3 rows × 31 columns</p>\n",
       "</div>"
      ],
      "text/plain": [
       "   Time        V1        V2        V3        V4        V5        V6        V7  \\\n",
       "0   0.0 -1.359807 -0.072781  2.536347  1.378155 -0.338321  0.462388  0.239599   \n",
       "1   0.0  1.191857  0.266151  0.166480  0.448154  0.060018 -0.082361 -0.078803   \n",
       "2   1.0 -1.358354 -1.340163  1.773209  0.379780 -0.503198  1.800499  0.791461   \n",
       "\n",
       "         V8        V9  ...       V21       V22       V23       V24       V25  \\\n",
       "0  0.098698  0.363787  ... -0.018307  0.277838 -0.110474  0.066928  0.128539   \n",
       "1  0.085102 -0.255425  ... -0.225775 -0.638672  0.101288 -0.339846  0.167170   \n",
       "2  0.247676 -1.514654  ...  0.247998  0.771679  0.909412 -0.689281 -0.327642   \n",
       "\n",
       "        V26       V27       V28  Amount  Class  \n",
       "0 -0.189115  0.133558 -0.021053  149.62      0  \n",
       "1  0.125895 -0.008983  0.014724    2.69      0  \n",
       "2 -0.139097 -0.055353 -0.059752  378.66      0  \n",
       "\n",
       "[3 rows x 31 columns]"
      ]
     },
     "execution_count": 12,
     "metadata": {},
     "output_type": "execute_result"
    }
   ],
   "source": [
    "data.head(3)"
   ]
  },
  {
   "cell_type": "markdown",
   "metadata": {
    "id": "7216839926604EEF89B13B9805EA0E5A",
    "jupyter": {},
    "mdEditEnable": false,
    "slideshow": {
     "slide_type": "slide"
    },
    "tags": []
   },
   "source": [
    "#### 缺失值检查"
   ]
  },
  {
   "cell_type": "code",
   "execution_count": 13,
   "metadata": {
    "id": "36AA3487D946440A84F0D503C077F4EF",
    "jupyter": {},
    "slideshow": {
     "slide_type": "slide"
    },
    "tags": []
   },
   "outputs": [
    {
     "data": {
      "text/plain": [
       "np.int64(0)"
      ]
     },
     "execution_count": 13,
     "metadata": {},
     "output_type": "execute_result"
    }
   ],
   "source": [
    "data.isnull().values.sum()"
   ]
  },
  {
   "cell_type": "markdown",
   "metadata": {
    "id": "FB906B4D440546FDBC24901D09BC13D9",
    "jupyter": {},
    "mdEditEnable": false,
    "slideshow": {
     "slide_type": "slide"
    },
    "tags": []
   },
   "source": [
    "### 交易类别分布"
   ]
  },
  {
   "cell_type": "code",
   "execution_count": 14,
   "metadata": {
    "hide_input": true,
    "id": "4D709D61FF7F4CA18E505DC44947EA13",
    "jupyter": {},
    "slideshow": {
     "slide_type": "slide"
    },
    "tags": []
   },
   "outputs": [
    {
     "ename": "KeyError",
     "evalue": "'交易类别'",
     "output_type": "error",
     "traceback": [
      "\u001b[31m---------------------------------------------------------------------------\u001b[39m",
      "\u001b[31mKeyError\u001b[39m                                  Traceback (most recent call last)",
      "\u001b[36mFile \u001b[39m\u001b[32m/Library/Frameworks/Python.framework/Versions/3.13/lib/python3.13/site-packages/pandas/core/indexes/base.py:3812\u001b[39m, in \u001b[36mIndex.get_loc\u001b[39m\u001b[34m(self, key)\u001b[39m\n\u001b[32m   3811\u001b[39m \u001b[38;5;28;01mtry\u001b[39;00m:\n\u001b[32m-> \u001b[39m\u001b[32m3812\u001b[39m     \u001b[38;5;28;01mreturn\u001b[39;00m \u001b[38;5;28;43mself\u001b[39;49m\u001b[43m.\u001b[49m\u001b[43m_engine\u001b[49m\u001b[43m.\u001b[49m\u001b[43mget_loc\u001b[49m\u001b[43m(\u001b[49m\u001b[43mcasted_key\u001b[49m\u001b[43m)\u001b[49m\n\u001b[32m   3813\u001b[39m \u001b[38;5;28;01mexcept\u001b[39;00m \u001b[38;5;167;01mKeyError\u001b[39;00m \u001b[38;5;28;01mas\u001b[39;00m err:\n",
      "\u001b[36mFile \u001b[39m\u001b[32mpandas/_libs/index.pyx:167\u001b[39m, in \u001b[36mpandas._libs.index.IndexEngine.get_loc\u001b[39m\u001b[34m()\u001b[39m\n",
      "\u001b[36mFile \u001b[39m\u001b[32mpandas/_libs/index.pyx:196\u001b[39m, in \u001b[36mpandas._libs.index.IndexEngine.get_loc\u001b[39m\u001b[34m()\u001b[39m\n",
      "\u001b[36mFile \u001b[39m\u001b[32mpandas/_libs/hashtable_class_helper.pxi:7088\u001b[39m, in \u001b[36mpandas._libs.hashtable.PyObjectHashTable.get_item\u001b[39m\u001b[34m()\u001b[39m\n",
      "\u001b[36mFile \u001b[39m\u001b[32mpandas/_libs/hashtable_class_helper.pxi:7096\u001b[39m, in \u001b[36mpandas._libs.hashtable.PyObjectHashTable.get_item\u001b[39m\u001b[34m()\u001b[39m\n",
      "\u001b[31mKeyError\u001b[39m: '交易类别'",
      "\nThe above exception was the direct cause of the following exception:\n",
      "\u001b[31mKeyError\u001b[39m                                  Traceback (most recent call last)",
      "\u001b[36mCell\u001b[39m\u001b[36m \u001b[39m\u001b[32mIn[14]\u001b[39m\u001b[32m, line 3\u001b[39m\n\u001b[32m      1\u001b[39m tran_class = data.Class.value_counts().reset_index()\n\u001b[32m      2\u001b[39m tran_class.rename(columns={\u001b[33m'\u001b[39m\u001b[33mindex\u001b[39m\u001b[33m'\u001b[39m:\u001b[33m'\u001b[39m\u001b[33m交易类别\u001b[39m\u001b[33m'\u001b[39m, \u001b[33m'\u001b[39m\u001b[33mClass\u001b[39m\u001b[33m'\u001b[39m:\u001b[33m'\u001b[39m\u001b[33m频数\u001b[39m\u001b[33m'\u001b[39m}, inplace=\u001b[38;5;28;01mTrue\u001b[39;00m)\n\u001b[32m----> \u001b[39m\u001b[32m3\u001b[39m tran_class[\u001b[33m'\u001b[39m\u001b[33m交易类别\u001b[39m\u001b[33m'\u001b[39m] = \u001b[43mtran_class\u001b[49m\u001b[43m[\u001b[49m\u001b[33;43m'\u001b[39;49m\u001b[33;43m交易类别\u001b[39;49m\u001b[33;43m'\u001b[39;49m\u001b[43m]\u001b[49m.map({\u001b[32m0\u001b[39m:\u001b[33m'\u001b[39m\u001b[33m正常\u001b[39m\u001b[33m'\u001b[39m,\u001b[32m1\u001b[39m:\u001b[33m'\u001b[39m\u001b[33m欺诈\u001b[39m\u001b[33m'\u001b[39m})\n\u001b[32m      4\u001b[39m tran_class[\u001b[33m'\u001b[39m\u001b[33m占比\u001b[39m\u001b[33m'\u001b[39m] = tran_class[\u001b[33m'\u001b[39m\u001b[33m频数\u001b[39m\u001b[33m'\u001b[39m]/tran_class[\u001b[33m'\u001b[39m\u001b[33m频数\u001b[39m\u001b[33m'\u001b[39m].sum()\n\u001b[32m      7\u001b[39m \u001b[38;5;66;03m# 绘制柱状图\u001b[39;00m\n",
      "\u001b[36mFile \u001b[39m\u001b[32m/Library/Frameworks/Python.framework/Versions/3.13/lib/python3.13/site-packages/pandas/core/frame.py:4107\u001b[39m, in \u001b[36mDataFrame.__getitem__\u001b[39m\u001b[34m(self, key)\u001b[39m\n\u001b[32m   4105\u001b[39m \u001b[38;5;28;01mif\u001b[39;00m \u001b[38;5;28mself\u001b[39m.columns.nlevels > \u001b[32m1\u001b[39m:\n\u001b[32m   4106\u001b[39m     \u001b[38;5;28;01mreturn\u001b[39;00m \u001b[38;5;28mself\u001b[39m._getitem_multilevel(key)\n\u001b[32m-> \u001b[39m\u001b[32m4107\u001b[39m indexer = \u001b[38;5;28;43mself\u001b[39;49m\u001b[43m.\u001b[49m\u001b[43mcolumns\u001b[49m\u001b[43m.\u001b[49m\u001b[43mget_loc\u001b[49m\u001b[43m(\u001b[49m\u001b[43mkey\u001b[49m\u001b[43m)\u001b[49m\n\u001b[32m   4108\u001b[39m \u001b[38;5;28;01mif\u001b[39;00m is_integer(indexer):\n\u001b[32m   4109\u001b[39m     indexer = [indexer]\n",
      "\u001b[36mFile \u001b[39m\u001b[32m/Library/Frameworks/Python.framework/Versions/3.13/lib/python3.13/site-packages/pandas/core/indexes/base.py:3819\u001b[39m, in \u001b[36mIndex.get_loc\u001b[39m\u001b[34m(self, key)\u001b[39m\n\u001b[32m   3814\u001b[39m     \u001b[38;5;28;01mif\u001b[39;00m \u001b[38;5;28misinstance\u001b[39m(casted_key, \u001b[38;5;28mslice\u001b[39m) \u001b[38;5;129;01mor\u001b[39;00m (\n\u001b[32m   3815\u001b[39m         \u001b[38;5;28misinstance\u001b[39m(casted_key, abc.Iterable)\n\u001b[32m   3816\u001b[39m         \u001b[38;5;129;01mand\u001b[39;00m \u001b[38;5;28many\u001b[39m(\u001b[38;5;28misinstance\u001b[39m(x, \u001b[38;5;28mslice\u001b[39m) \u001b[38;5;28;01mfor\u001b[39;00m x \u001b[38;5;129;01min\u001b[39;00m casted_key)\n\u001b[32m   3817\u001b[39m     ):\n\u001b[32m   3818\u001b[39m         \u001b[38;5;28;01mraise\u001b[39;00m InvalidIndexError(key)\n\u001b[32m-> \u001b[39m\u001b[32m3819\u001b[39m     \u001b[38;5;28;01mraise\u001b[39;00m \u001b[38;5;167;01mKeyError\u001b[39;00m(key) \u001b[38;5;28;01mfrom\u001b[39;00m\u001b[38;5;250m \u001b[39m\u001b[34;01merr\u001b[39;00m\n\u001b[32m   3820\u001b[39m \u001b[38;5;28;01mexcept\u001b[39;00m \u001b[38;5;167;01mTypeError\u001b[39;00m:\n\u001b[32m   3821\u001b[39m     \u001b[38;5;66;03m# If we have a listlike key, _check_indexing_error will raise\u001b[39;00m\n\u001b[32m   3822\u001b[39m     \u001b[38;5;66;03m#  InvalidIndexError. Otherwise we fall through and re-raise\u001b[39;00m\n\u001b[32m   3823\u001b[39m     \u001b[38;5;66;03m#  the TypeError.\u001b[39;00m\n\u001b[32m   3824\u001b[39m     \u001b[38;5;28mself\u001b[39m._check_indexing_error(key)\n",
      "\u001b[31mKeyError\u001b[39m: '交易类别'"
     ]
    }
   ],
   "source": [
    "tran_class = data.Class.value_counts().reset_index()\n",
    "tran_class.rename(columns={'index':'交易类别', 'Class':'频数'}, inplace=True)\n",
    "tran_class['交易类别'] = tran_class['交易类别'].map({0:'正常',1:'欺诈'})\n",
    "tran_class['占比'] = tran_class['频数']/tran_class['频数'].sum()\n",
    "\n",
    "\n",
    "# 绘制柱状图\n",
    "tran_class_fig = px.bar(tran_class, y='交易类别', x='频数', height = 300, width = 800, \n",
    "    text=['频数:{}<br>占比:{:.2f}%'.format(a,100*b) for a,b in zip(tran_class['频数'],tran_class['占比'])],\n",
    "    orientation='h'\n",
    "    )\n",
    "tran_class_fig.update_layout(title={'text':'交易类别分布', 'y':0.97, 'x':0.5, 'xanchor':'center','yanchor':'top'})"
   ]
  },
  {
   "cell_type": "markdown",
   "metadata": {
    "id": "0F66EC0864EF40539363F4DBF5246BA9",
    "jupyter": {},
    "mdEditEnable": false,
    "slideshow": {
     "slide_type": "slide"
    },
    "tags": []
   },
   "source": [
    "如图所示，正常交易记录有284315条，异常交易记录有492条，异常交易记录比率为0.17%。"
   ]
  },
  {
   "cell_type": "code",
   "execution_count": null,
   "metadata": {
    "id": "E223815529DC4277854DFF32DB57C0ED",
    "jupyter": {},
    "slideshow": {
     "slide_type": "slide"
    },
    "tags": []
   },
   "outputs": [],
   "source": [
    "all_normal = data[data['Class'] == 0] # 正常交易\n",
    "all_fraud = data[data['Class'] == 1]  # 欺诈交易"
   ]
  },
  {
   "cell_type": "markdown",
   "metadata": {
    "id": "E01E734C89AB44AD953CBB6381DB0C60",
    "jupyter": {},
    "mdEditEnable": false,
    "slideshow": {
     "slide_type": "slide"
    },
    "tags": []
   },
   "source": [
    "## 探索交易时间分布"
   ]
  },
  {
   "cell_type": "markdown",
   "metadata": {
    "id": "9DB6AE6430E848228C9BE78015FCA9B1",
    "jupyter": {},
    "mdEditEnable": false,
    "slideshow": {
     "slide_type": "slide"
    },
    "tags": []
   },
   "source": [
    "自定义直方图绘制函数"
   ]
  },
  {
   "cell_type": "code",
   "execution_count": null,
   "metadata": {
    "hide_input": true,
    "id": "624673347B1B489281A7772AD053175C",
    "jupyter": {},
    "slideshow": {
     "slide_type": "slide"
    },
    "tags": []
   },
   "outputs": [],
   "source": [
    "def draw_hist(dataframe, x_name, x_rename, title, color, nbins_count = 100, height = 400, width = 900, log_y=False):\n",
    "    fig = px.histogram(dataframe, x=x_name, nbins=nbins_count, labels={x_name:x_rename}, \n",
    "                    opacity=0.9, color_discrete_sequence=[color], # color of histogram bars\n",
    "                    height= height, width = width, log_y = log_y,\n",
    "                    # range_x = [dataframe[x_name].min(),dataframe[x_name].max()],\n",
    "                    # marginal='box', # 绘制辅助图：箱线图\n",
    "    )\n",
    "    fig.update_layout(title={'text':title, 'y':0.97, 'x':0.5, 'xanchor':'center','yanchor':'top'})\n",
    "    fig.show()"
   ]
  },
  {
   "cell_type": "code",
   "execution_count": null,
   "metadata": {
    "id": "099A13C33F3942D7854DF0A37E4407B1",
    "jupyter": {},
    "slideshow": {
     "slide_type": "slide"
    },
    "tags": []
   },
   "outputs": [],
   "source": [
    "draw_hist(all_normal, 'Time', '交易时间', '正常交易时间分布', 'rgb(156,219,165)')\n",
    "draw_hist(all_fraud, 'Time', '交易时间', '欺诈交易时间分布', 'rgb(214,96,77)')"
   ]
  },
  {
   "cell_type": "markdown",
   "metadata": {
    "id": "92A0AD33EC2B461B8C48152CB7604CEF",
    "jupyter": {},
    "mdEditEnable": false,
    "slideshow": {
     "slide_type": "slide"
    },
    "tags": []
   },
   "source": [
    "对出现频次`y`取对数Log进行更直观的可视化。"
   ]
  },
  {
   "cell_type": "code",
   "execution_count": null,
   "metadata": {
    "id": "39DB0CF236D444628A85ADA478FB1510",
    "jupyter": {},
    "slideshow": {
     "slide_type": "slide"
    },
    "tags": []
   },
   "outputs": [],
   "source": [
    "draw_hist(all_normal, 'Time', '交易时间', '正常交易时间分布', 'rgb(156,219,165)', log_y = True)\n",
    "draw_hist(all_fraud, 'Time', '交易时间', '欺诈交易时间分布', 'rgb(214,96,77)', log_y = True)"
   ]
  },
  {
   "cell_type": "markdown",
   "metadata": {
    "id": "FCA85CD31BE343EAB4213A14EF0B5CE4",
    "jupyter": {},
    "mdEditEnable": false,
    "slideshow": {
     "slide_type": "slide"
    },
    "tags": []
   },
   "source": [
    "显示正常交易记录呈周期性分布，而异常交易分布较平均。在正常交易的交易低频时间段更容易检测到欺诈交易，所以可以从交易周期的低频段入手欺诈交易的检测。"
   ]
  },
  {
   "cell_type": "markdown",
   "metadata": {
    "id": "27AAE5FE3E084A1897B58B03A44F8FCA",
    "jupyter": {},
    "mdEditEnable": false,
    "slideshow": {
     "slide_type": "slide"
    },
    "tags": []
   },
   "source": [
    "## 探索交易金额分布"
   ]
  },
  {
   "cell_type": "code",
   "execution_count": null,
   "metadata": {
    "hide_input": true,
    "id": "7E1C652DE5D547A085C186F368C4E9E0",
    "jupyter": {},
    "notebookId": "5f8f357146ba5e003078e0f4",
    "slideshow": {
     "slide_type": "slide"
    },
    "tags": []
   },
   "outputs": [],
   "source": [
    "normal_amount_box = px.box(all_normal, x='Amount', width = 700, height = 200)\n",
    "normal_amount_box.update_layout(title={'text':'正常交易金额箱线图', 'y':0.97, 'x':0.5, 'xanchor':'center','yanchor':'top'})\n",
    "normal_amount_box.show()\n",
    "fraud_amount_box = px.box(all_fraud, x='Amount', width = 700, height = 200)\n",
    "fraud_amount_box.update_layout(title={'text':'欺诈交易金额箱线图', 'y':0.97, 'x':0.5, 'xanchor':'center','yanchor':'top'})\n",
    "fraud_amount_box.show()"
   ]
  },
  {
   "cell_type": "code",
   "execution_count": null,
   "metadata": {
    "id": "848C046345E84DAC8DDE461F72C95B8B",
    "jupyter": {},
    "slideshow": {
     "slide_type": "slide"
    },
    "tags": []
   },
   "outputs": [],
   "source": [
    "draw_hist(all_normal, 'Amount', '交易金额', '正常交易金额分布', 'rgb(156,219,165)', nbins_count=30, height = 300, width = 700)\n",
    "draw_hist(all_fraud, 'Amount', '交易金额', '欺诈交易金额分布', 'rgb(214,96,77)', nbins_count=30, height = 300, width = 700)"
   ]
  },
  {
   "cell_type": "markdown",
   "metadata": {
    "id": "3BD0C1B1D13740F28D7EB0CD3B9E3675",
    "jupyter": {},
    "mdEditEnable": false,
    "scrolled": false,
    "slideshow": {
     "slide_type": "slide"
    },
    "tags": []
   },
   "source": [
    "由上图直方图显示欺诈交易和正常交易的金额分布相差很大，欺诈交易最大金额仅为`$2125.87`。辅助箱线图显示75%的欺诈交易记录的金额都不高于`$105.89`，且集中于小额交易。"
   ]
  },
  {
   "cell_type": "markdown",
   "metadata": {
    "id": "F5646A36518547E6B21E354690F13EAB",
    "jupyter": {},
    "mdEditEnable": false,
    "slideshow": {
     "slide_type": "slide"
    },
    "tags": []
   },
   "source": [
    "## 探索交易时间与金额之间的分布关系"
   ]
  },
  {
   "cell_type": "code",
   "execution_count": null,
   "metadata": {
    "hide_input": true,
    "id": "6EFE5375E28540E282FB29024C0D7140",
    "jupyter": {},
    "slideshow": {
     "slide_type": "slide"
    },
    "tags": []
   },
   "outputs": [],
   "source": [
    "normal_time_amount_fig = px.scatter(all_normal, x='Time', y = 'Amount', height = 380, width = 700)\n",
    "normal_time_amount_fig.update_layout(title={'text':'正常交易时间与金额的分布', 'y':0.97, 'x':0.5, 'xanchor':'center','yanchor':'top'})\n",
    "# normal_time_amount_fig.show()\n",
    "\n",
    "fraud_time_amount_fig = px.scatter(all_fraud, x='Time', y = 'Amount', height = 380, width = 700)\n",
    "fraud_time_amount_fig.update_layout(title={'text':'欺诈交易时间与金额的分布', 'y':0.97, 'x':0.5, 'xanchor':'center','yanchor':'top'})\n",
    "fraud_time_amount_fig.show()"
   ]
  },
  {
   "cell_type": "markdown",
   "metadata": {
    "id": "86412206DB324FF781609426832722AD",
    "jupyter": {},
    "mdEditEnable": false,
    "slideshow": {
     "slide_type": "slide"
    },
    "tags": []
   },
   "source": [
    "# 数据预处理\n",
    "**异常交易记录比率为0.17%，正常交易记录比率为99.83%**。\n",
    "大部分交易都是非欺诈的。正负样本是高度不平衡的，如果不做平衡处理直接使用建模会导致模型出现过拟合的问题。\n",
    "\n",
    "## 数据缩放（标准化）\n",
    "\n",
    "数据集的`V1`至`V28`是已经经过PCA处理的28个主成成分，而金额与时间列还未进行相应的缩放。\n",
    "`Amount`列和`Time`特征值的取值范围相比于PCA处理过的其他28列（`V1`至`V28`）特征值取值范围相差很大，需统一标准即**标准化**处理，以此来消除内部构成不同造成的对结果的影响。\n",
    "\n",
    "- 选择哪种缩放？\n",
    "    - StandardScaler\n",
    "        - 本质：$(x-mean)/std_dev$数据减去均值除以标准差\n",
    "        - 可以保存均值和方差供后续使用\n",
    "    - RobustScaler\n",
    "        - 这里的数据有离群点，对数据进行均差和方差的标准化效果不好，建议使用`RobustScaler`进行数据缩放\n",
    "        - 它对数据中心化和数据的缩放鲁棒性更强"
   ]
  },
  {
   "cell_type": "code",
   "execution_count": null,
   "metadata": {
    "id": "788384FB9D3D4D24967895E1478DF592",
    "jupyter": {},
    "slideshow": {
     "slide_type": "slide"
    },
    "tags": []
   },
   "outputs": [],
   "source": [
    "from sklearn.preprocessing import StandardScaler, RobustScaler\n",
    "\n",
    "# std_scaler = StandardScaler()\n",
    "rub_scaler = RobustScaler() # 鲁棒性更强\n",
    "\n",
    "# reshape(-1,1) 将data['Amount']变成只有一列，行数不限定的np.array\n",
    "data['scaledAmount'] = rub_scaler.fit_transform(data['Amount'].values.reshape(-1,1))\n",
    "data['scaledTime'] = rub_scaler.fit_transform(data['Time'].values.reshape(-1,1))\n",
    "\n",
    "print('未标准化的Amount：',data['Amount'].values.reshape(-1,1))\n",
    "print('标准化后的Amount：',rub_scaler.fit_transform(data['Amount'].values.reshape(-1,1)))\n",
    "print('未标准化的Time：',data['Time'].values.reshape(-1,1))\n",
    "print('标准化后的Time：',rub_scaler.fit_transform(data['Time'].values.reshape(-1,1)))\n",
    "\n",
    "\n",
    "# 新建子数据集：删除不需要使用到的两列数据\n",
    "new_data = data.drop(['Time','Amount'], axis = 1)\n",
    "new_data.head()"
   ]
  },
  {
   "cell_type": "markdown",
   "metadata": {
    "id": "5F9CA112396540AD8CA9807E86BA7D2D",
    "jupyter": {},
    "mdEditEnable": false,
    "slideshow": {
     "slide_type": "slide"
    },
    "tags": []
   },
   "source": [
    "## 3种方式平衡样本\n",
    "接下来会尝试3种不同的方式来平衡样本，考虑到正样本量占比仅为0.17%，如果使用欠采样会造成样本大量丢失，且不足以让模型训练学习，所以不考虑欠采样。\n",
    "- 随机过采样：按指定比例随机复制少数类样本。缺陷：重复样本过多，分类器过拟合。\n",
    "- SMOTE过采样：基于分布线性插值生成合成样本。缺陷：稀有事件样本被重复复制过多次，造成模型过于关注局部信息而造成过拟合。\n",
    "- 综合采样法：结合了欠采样与过采样，综合解决类别分布不平衡的和过拟合问题。比如有SMOTE+Tomek，SMOTE+KNN。缺陷：会出现过采样和欠采样的缺点。"
   ]
  },
  {
   "cell_type": "markdown",
   "metadata": {
    "id": "45B7B41FA9F94CCB81D6F7EF24D73491",
    "jupyter": {},
    "mdEditEnable": false,
    "slideshow": {
     "slide_type": "slide"
    },
    "tags": []
   },
   "source": [
    "### Step 1. 训练集与测试集切分\n",
    "\n",
    "两种切分方式:\n",
    "- 随机抽样`train_test_split`：随机抽取构建训练集与测试集，标签分布不一定一致，适用于较平衡的样本\n",
    "- [分层抽样](https://scikit-learn.org/stable/modules/generated/sklearn.model_selection.StratifiedShuffleSplit.html)`StratifiedShuffleSplit`：可以保证训练与测试集中不同标签的分布与原始数据的标签分布基本一致，适用于不平衡样本\n",
    "\n",
    "这里切分比例为 `训练集：测试集 = 7：3`"
   ]
  },
  {
   "cell_type": "code",
   "execution_count": null,
   "metadata": {
    "id": "5844F86A9B564D749D95C3FEB2CE260D",
    "jupyter": {},
    "slideshow": {
     "slide_type": "slide"
    },
    "tags": []
   },
   "outputs": [],
   "source": [
    "from sklearn.model_selection import train_test_split       # 随机抽样\n",
    "from sklearn.model_selection import StratifiedShuffleSplit # 分层抽样\n",
    "\n",
    "\n",
    "# 划分特征数据 和标签数据\n",
    "X = new_data.iloc[:, new_data.columns != 'Class'] # 选取特征列数据\n",
    "y = new_data.iloc[:, new_data.columns == 'Class'] # 选取类别label\n",
    "print('X shape:',X.shape, '\\ny shape:',y.shape)\n",
    "\n",
    "\n",
    "# 方式一：随机抽样\n",
    "# X = np.array(new_data.iloc[:, new_data.columns != 'Class']) # 选取特征列数据\n",
    "# y = np.array(new_data.iloc[:, new_data.columns == 'Class']) # 选取类别label\n",
    "# X_train, X_test, y_train, y_test = train_test_split(X, y, test_size=0.3, random_state=1234)\n",
    "\n",
    "# 方式二：按比例分层抽样\n",
    "#  cross-validator中划分迭代次数设为10\n",
    "sss = StratifiedShuffleSplit(n_splits=10,test_size=0.3,train_size=None, random_state=12345)\n",
    "\n",
    "\n",
    "for train_index, test_index in sss.split(X,y):\n",
    "    print('Train:', train_index, 'Test:', test_index)\n",
    "    original_Xtrain, original_Xtest = X.iloc[train_index], X.iloc[test_index]\n",
    "    original_ytrain, original_ytest = y.iloc[train_index], y.iloc[test_index]\n",
    "\n",
    "\n",
    "# 矩阵化训练集与测试集\n",
    "original_X_train = np.array(original_Xtrain)\n",
    "original_X_test = np.array(original_Xtest)\n",
    "original_y_train = np.array(original_ytrain)\n",
    "original_y_test = np.array(original_ytest)"
   ]
  },
  {
   "cell_type": "code",
   "execution_count": null,
   "metadata": {
    "id": "48107B3C5A90454488037F32D90A0367",
    "jupyter": {},
    "slideshow": {
     "slide_type": "slide"
    },
    "tags": []
   },
   "outputs": [],
   "source": [
    "# 查看训练集和测试集标签分布\n",
    "train_unique_label, train_label_count = np.unique(original_y_train, return_counts=True)\n",
    "test_unique_label, test_label_count = np.unique(original_y_test, return_counts=True)\n",
    "\n",
    "train_label_rate = train_label_count / len(original_ytrain)\n",
    "test_label_rate = test_label_count / len(original_ytest)\n",
    "\n",
    "\n",
    "print(\"\\n训练集标签{}:{}个, 标签{}:{}个\".format(train_unique_label[0],train_label_count[0], train_unique_label[1],train_label_count[1] ))\n",
    "print(\"\\n训练集标签分布比例：\")\n",
    "for label,rate in zip(train_unique_label, train_label_rate):\n",
    "    print('标签{} 占比:{:.2f}%'.format(label,100*rate))\n",
    "\n",
    "print(\"\\n测试集标签{}:{}个, 标签{}:{}个\".format(test_unique_label[0],test_label_count[0], test_unique_label[1],test_label_count[1] ))\n",
    "print(\"\\n测试集标签分布比例：\")\n",
    "for label,rate in zip(test_unique_label,test_label_rate):\n",
    "    print('标签{} 占比:{:.2f}%'.format(label,100*rate))"
   ]
  },
  {
   "cell_type": "markdown",
   "metadata": {
    "id": "967DC27DA50F4D1585607A8A31036C71",
    "jupyter": {},
    "mdEditEnable": false,
    "slideshow": {
     "slide_type": "slide"
    },
    "tags": []
   },
   "source": [
    "### Step 2. 对训练数据进行样本平衡"
   ]
  },
  {
   "cell_type": "code",
   "execution_count": null,
   "metadata": {},
   "outputs": [],
   "source": [
    "# pip uninstall imbalanced-learn"
   ]
  },
  {
   "cell_type": "code",
   "execution_count": null,
   "metadata": {},
   "outputs": [],
   "source": [
    "# 安装 imblearn 0.7.0\n",
    "# !pip install imbalanced-learn==0.7.0 -i https://pypi.tuna.tsinghua.edu.cn/simple  --trusted-host pypi.tuna.tsinghua.edu.cn"
   ]
  },
  {
   "cell_type": "code",
   "execution_count": null,
   "metadata": {
    "id": "97E1FB168D794B6589EAD5013387F88C",
    "jupyter": {},
    "slideshow": {
     "slide_type": "slide"
    },
    "tags": []
   },
   "outputs": [],
   "source": [
    "from imblearn.over_sampling import RandomOverSampler, SMOTE\n",
    "from imblearn.combine import SMOTETomek"
   ]
  },
  {
   "cell_type": "code",
   "execution_count": null,
   "metadata": {
    "id": "4180EE590B574D5284806FE2650515D8",
    "jupyter": {},
    "scrolled": true,
    "slideshow": {
     "slide_type": "slide"
    },
    "tags": []
   },
   "outputs": [],
   "source": [
    "ros = RandomOverSampler(random_state=0)\n",
    "sos = SMOTE(random_state = 0)\n",
    "kos = SMOTETomek(random_state = 0)\n",
    "\n",
    "# 这一步耗时较长\n",
    "X_ros, y_ros = ros.fit_sample(original_X_train, original_y_train)\n",
    "X_sos, y_sos = sos.fit_sample(original_X_train, original_y_train)\n",
    "X_kos, y_kos = kos.fit_sample(original_X_train, original_y_train)\n",
    "\n",
    "print('ros:{}, sos:{}, kos:{}'.format(len(y_ros), len(y_sos), len(y_kos)))"
   ]
  },
  {
   "cell_type": "markdown",
   "metadata": {
    "id": "D5D4FA613AE24B8890BE93BBF1D67C7F",
    "jupyter": {},
    "mdEditEnable": false,
    "slideshow": {
     "slide_type": "slide"
    },
    "tags": []
   },
   "source": [
    "查看采样后的正负样本数量"
   ]
  },
  {
   "cell_type": "code",
   "execution_count": null,
   "metadata": {
    "id": "0F384DC0971A4A988015A8DF28D3436A",
    "jupyter": {},
    "slideshow": {
     "slide_type": "slide"
    },
    "tags": []
   },
   "outputs": [],
   "source": [
    "print('训练集正样本数统计，原始训练集:{} \\n随机过采样后训练集:{}, SMOTE过采样后训练集:{}, 综合过采样后训练集:{}\\\n",
    "      '.format(original_y_train.sum(), y_ros.sum(), y_sos.sum(), y_kos.sum()))\n",
    "print('原始训练集中敷眼部占比为{:.2f}%, 通过3种过采样方式后训练集的负样本占比都提升至：{:.0f}%'.format(100*original_y_train.sum()/len(original_y_train), 100*y_ros.sum()/len(y_ros)))"
   ]
  },
  {
   "cell_type": "markdown",
   "metadata": {
    "id": "16F9F20908264E5CAFA973A617F498CA",
    "jupyter": {},
    "mdEditEnable": false,
    "slideshow": {
     "slide_type": "slide"
    },
    "tags": []
   },
   "source": [
    "# 建模与模型评估"
   ]
  },
  {
   "cell_type": "code",
   "execution_count": null,
   "metadata": {
    "id": "3C04B3E2FDC94F58840668544719B025",
    "jupyter": {},
    "slideshow": {
     "slide_type": "slide"
    },
    "tags": []
   },
   "outputs": [],
   "source": [
    "from sklearn.linear_model import LogisticRegression\n",
    "from sklearn import metrics\n",
    "from sklearn.model_selection import GridSearchCV\n",
    "from sklearn.metrics import confusion_matrix, roc_curve, auc, recall_score, classification_report"
   ]
  },
  {
   "cell_type": "markdown",
   "metadata": {
    "id": "8F00AF4FFE684E148E47CE55B4699A7F",
    "jupyter": {},
    "mdEditEnable": false,
    "slideshow": {
     "slide_type": "slide"
    },
    "tags": []
   },
   "source": [
    "## LR建模\n",
    "### 原始训练集 vs 过采样训练集 建模效果\n",
    "- 这里使用的衡量模型表现的标准为`f1-score`，因为想要捕捉更多的少数类（欺诈交易），同时希望维持较高的准确率。\n",
    "\n",
    "Tip:CV的运行过程可在页面下方的【日志监控】处查看"
   ]
  },
  {
   "cell_type": "code",
   "execution_count": null,
   "metadata": {
    "id": "A78F392454244C2F8B2E7A9EF5297AE1",
    "jupyter": {},
    "slideshow": {
     "slide_type": "slide"
    },
    "tags": []
   },
   "outputs": [],
   "source": [
    "lr = LogisticRegression(max_iter = 500)\n",
    "\n",
    "# 定义正则化权重参数，用以控制过拟合\n",
    "paramaters = {'C':[0.01,0.1,1,5,10,100]} \n",
    "# 10 folds, n jobs run in parallel\n",
    "lr_cv1 = GridSearchCV(lr, param_grid = paramaters, cv=10, n_jobs=-1, verbose=5, scoring='f1')  # n_jobs=-1"
   ]
  },
  {
   "cell_type": "code",
   "execution_count": null,
   "metadata": {
    "id": "2897D6347FA0419AA6AF6D6A495E10C8",
    "jupyter": {},
    "slideshow": {
     "slide_type": "slide"
    },
    "tags": []
   },
   "outputs": [],
   "source": [
    "data = [[original_X_train, original_y_train],\n",
    "        [X_ros, y_ros],\n",
    "        [X_sos, y_sos],\n",
    "        [X_kos, y_kos]]\n",
    "\n",
    "\n",
    "for features, labels in data:\n",
    "    lr_cv1.fit(features, labels)\n",
    "    predict_test = lr_cv1.predict(original_X_test)\n",
    "    print('AUC:{} Recall:{} Precision:{}'.format(\n",
    "        metrics.roc_auc_score(original_y_test, predict_test),\n",
    "        metrics.recall_score(original_y_test, predict_test),\n",
    "        metrics.precision_score(original_y_test, predict_test)\n",
    "    ))"
   ]
  },
  {
   "cell_type": "code",
   "execution_count": null,
   "metadata": {
    "id": "91C80301DB584C028193EF9FCC04B7A6",
    "jupyter": {},
    "slideshow": {
     "slide_type": "slide"
    },
    "tags": []
   },
   "outputs": [],
   "source": [
    "print('最好的参数：', lr_cv1.best_params_)"
   ]
  },
  {
   "cell_type": "markdown",
   "metadata": {
    "id": "A892E559E59243E39B60ED5C9FEC50F8",
    "jupyter": {},
    "mdEditEnable": false,
    "slideshow": {
     "slide_type": "slide"
    },
    "tags": []
   },
   "source": [
    "可以看出用原始训练集训练的模型有很好的precision:90%,但是灵敏度recall(66.9%)并不高。这表示虽然预测为正的样本中有90%的实际也为正样本，但是实际所有的正样本中只有66.9%左右会被模型识别出。\n",
    "\n",
    "经过过采样处理的训练集普遍都和很好的敏感度，但是相应的precision就下降了非常多，仅为6%。模型的recall和precision失衡严重，并不是一个好的模型。\n",
    "\n",
    "接下来会尝试对正样本和负样本类别进行权重设置来训练模型。"
   ]
  },
  {
   "cell_type": "markdown",
   "metadata": {
    "id": "B95C2461A6F9408487A29845FAF9BD80",
    "jupyter": {},
    "mdEditEnable": false,
    "slideshow": {
     "slide_type": "slide"
    },
    "tags": []
   },
   "source": [
    "### 原始数据集调整类别权重参数后建模效果"
   ]
  },
  {
   "cell_type": "code",
   "execution_count": null,
   "metadata": {
    "id": "C90BE9CEEE2A4CA18BC5DEEA22CA9676",
    "jupyter": {},
    "slideshow": {
     "slide_type": "slide"
    },
    "tags": []
   },
   "outputs": [],
   "source": [
    "lr = LogisticRegression(max_iter = 500)\n",
    "param_grid= {'C':[0.01,0.1,1,5,10,100], \n",
    "            'class_weight':[{0:1,1:3}, {0:1,1:5},{0:1,1:10}, {0:1,1:15}]\n",
    "            } \n",
    "\n",
    "lr_cv2 = GridSearchCV(lr, param_grid = param_grid, cv=10, n_jobs=-1, verbose=5, scoring='f1')  # n_jobs=-1\n",
    "\n",
    "# \n",
    "lr_cv2.fit(original_X_train, original_y_train)\n",
    "predict2 = lr_cv2.predict(original_X_test)\n",
    "\n",
    "print('AUC:{:.3f} Recall:{:.3f} Precision:{:.3f}'.format(\n",
    "        metrics.roc_auc_score(original_y_test, predict2),\n",
    "        metrics.recall_score(original_y_test, predict2),\n",
    "        metrics.precision_score(original_y_test, predict2)\n",
    "    ))"
   ]
  },
  {
   "cell_type": "markdown",
   "metadata": {
    "id": "0B8EE2C2D7F5487D806E123161A5CBD3",
    "jupyter": {},
    "mdEditEnable": false,
    "slideshow": {
     "slide_type": "slide"
    },
    "tags": []
   },
   "source": [
    "这次，模型的敏感度recall与精确度precision取得了较好的平衡。"
   ]
  },
  {
   "cell_type": "code",
   "execution_count": null,
   "metadata": {
    "id": "272A2EBBF8294C42895F57CB5447E754",
    "jupyter": {},
    "slideshow": {
     "slide_type": "slide"
    },
    "tags": []
   },
   "outputs": [],
   "source": [
    "print('模型最优参数：',lr_cv2.best_params_)"
   ]
  },
  {
   "cell_type": "markdown",
   "metadata": {
    "id": "02793DD751CA486FBF1B4BFB0975881D",
    "jupyter": {},
    "mdEditEnable": false,
    "notebookId": "5f8f357146ba5e003078e0f4",
    "slideshow": {
     "slide_type": "slide"
    },
    "tags": []
   },
   "source": [
    "### 绘制混淆矩阵"
   ]
  },
  {
   "cell_type": "code",
   "execution_count": null,
   "metadata": {
    "hide_input": true,
    "id": "1CBC3FFC91C6446986B7A0A50CF479DA",
    "jupyter": {},
    "notebookId": "5f8f357146ba5e003078e0f4",
    "slideshow": {
     "slide_type": "slide"
    },
    "tags": []
   },
   "outputs": [],
   "source": [
    "import itertools\n",
    "\n",
    "def plot_confusion_matrix(cm, classes, title='Confusion matrix', cmap=plt.cm.Blues):\n",
    "    \"\"\"\n",
    "    This function prints and plots the confusion matrix.\n",
    "    Normalization can be applied by setting `normalize=True`.\n",
    "    \"\"\"\n",
    "    plt.imshow(cm, interpolation='nearest', cmap=cmap)\n",
    "    plt.title(title)\n",
    "    plt.colorbar()\n",
    "    tick_marks = np.arange(len(classes))\n",
    "    plt.xticks(tick_marks, classes, rotation=0)\n",
    "    plt.yticks(tick_marks, classes)\n",
    "\n",
    "    thresh = cm.max() / 2.\n",
    "    for i, j in itertools.product(range(cm.shape[0]), range(cm.shape[1])):\n",
    "        plt.text(j, i, cm[i, j],\n",
    "                 horizontalalignment=\"center\",\n",
    "                 color=\"white\" if cm[i, j] > thresh else \"black\")\n",
    "\n",
    "    # plt.tight_layout()\n",
    "    plt.ylabel('True label')\n",
    "    plt.xlabel('Predicted label')"
   ]
  },
  {
   "cell_type": "code",
   "execution_count": null,
   "metadata": {
    "hide_input": true,
    "id": "99D6E4A7862A4904833DA9A86DDF285D",
    "jupyter": {},
    "notebookId": "5f8f357146ba5e003078e0f4",
    "slideshow": {
     "slide_type": "slide"
    },
    "tags": []
   },
   "outputs": [],
   "source": [
    "# 对原训练集进行预测\n",
    "y_train_pre = lr_cv2.predict(original_X_train)\n",
    "\n",
    "# 训练集的混淆矩阵\n",
    "cnf_matrix_train = confusion_matrix(original_y_train, y_train_pre)\n",
    "\n",
    "print(\"训练集实际标签数量统计：\\n标签{}:{}个, 标签{}:{}个\".format(train_unique_label[0],train_label_count[0], train_unique_label[1],train_label_count[1] ))\n",
    "print(\"Recall: {:.2f}%\".format(100*cnf_matrix_train[1,1]/(cnf_matrix_train[1,0]+cnf_matrix_train[1,1])))\n",
    "\n",
    "class_names = [0,1]\n",
    "plt.figure()\n",
    "plot_confusion_matrix(cnf_matrix_train , classes=class_names, title='Confusion matrix')\n",
    "plt.show()"
   ]
  },
  {
   "cell_type": "code",
   "execution_count": null,
   "metadata": {
    "hide_input": true,
    "id": "AA9DF59EBCB743B185A1B9D830D66D02",
    "jupyter": {},
    "notebookId": "5f8f357146ba5e003078e0f4",
    "slideshow": {
     "slide_type": "slide"
    },
    "tags": []
   },
   "outputs": [],
   "source": [
    "# 对测试集进行预测\n",
    "y_pre = lr_cv2.predict(original_X_test)\n",
    "\n",
    "# 测试集的混淆矩阵\n",
    "cnf_matrix = confusion_matrix(original_y_test, y_pre)\n",
    "\n",
    "print(\"测试集实际标签数量统计：\\n标签{}:{}个, 标签{}:{}个\".format(test_unique_label[0],test_label_count[0], test_unique_label[1],test_label_count[1] ))\n",
    "print(\"测试集Recall: {:.2f}%\".format(100*cnf_matrix[1,1]/(cnf_matrix[1,0]+cnf_matrix[1,1])))\n",
    "\n",
    "class_names = [0,1]\n",
    "plt.figure()\n",
    "plot_confusion_matrix(cnf_matrix , classes=class_names, title='Confusion matrix')\n",
    "plt.show()\n"
   ]
  },
  {
   "cell_type": "markdown",
   "metadata": {
    "id": "36AE2B05F6F842B7B697977CB6661DA4",
    "jupyter": {},
    "mdEditEnable": false,
    "notebookId": "5f8f357146ba5e003078e0f4",
    "slideshow": {
     "slide_type": "slide"
    },
    "tags": []
   },
   "source": [
    "## 决策树建模\n",
    "决策树是一种基本的分类和回归方法。它每次选取一个特征，对现有的训练数据集进行划分，使得各个分割后的子集，在当前条件下有最好的分类。\n",
    "决策树对不同量纲的特征不敏感，所以也可以使用未缩放特征的数据进行训练。"
   ]
  },
  {
   "cell_type": "code",
   "execution_count": null,
   "metadata": {
    "id": "DA669541B86D4689881B5BFD2E1FC635",
    "jupyter": {},
    "notebookId": "5f8f357146ba5e003078e0f4",
    "slideshow": {
     "slide_type": "slide"
    },
    "tags": []
   },
   "outputs": [],
   "source": [
    "from sklearn.tree import DecisionTreeClassifier\n",
    "from sklearn.tree import export_graphviz"
   ]
  },
  {
   "cell_type": "code",
   "execution_count": null,
   "metadata": {
    "id": "83E536D1626C4D2AB00214AEE10450E0",
    "jupyter": {},
    "notebookId": "5f8f357146ba5e003078e0f4",
    "slideshow": {
     "slide_type": "slide"
    },
    "tags": []
   },
   "outputs": [],
   "source": [
    "tree_params = {\n",
    "    \"criterion\": [\"gini\", \"entropy\"], # 损失函数：基尼、熵\n",
    "    \"max_depth\": list(range(2, 4, 1)), # 最大深度 2、3\n",
    "    \"min_samples_leaf\": list(range(5, 7, 1)) # 叶子数需要为奇数\n",
    "}\n",
    "dt_cv = GridSearchCV(DecisionTreeClassifier(), tree_params, scoring='f1')\n",
    "dt_cv.fit(original_X_train, original_y_train.ravel())"
   ]
  },
  {
   "cell_type": "code",
   "execution_count": null,
   "metadata": {
    "id": "93B14BFD18834D3F858F1FD2AF1887EB",
    "jupyter": {},
    "notebookId": "5f8f357146ba5e003078e0f4",
    "slideshow": {
     "slide_type": "slide"
    },
    "tags": []
   },
   "outputs": [],
   "source": [
    "print('模型最优参数：',dt_cv.best_params_)"
   ]
  },
  {
   "cell_type": "code",
   "execution_count": null,
   "metadata": {
    "id": "AF8DC1D7E6564BC289F6F040962F643D",
    "jupyter": {},
    "notebookId": "5f8f357146ba5e003078e0f4",
    "slideshow": {
     "slide_type": "slide"
    },
    "tags": []
   },
   "outputs": [],
   "source": [
    "predict3 = dt_cv.predict(original_X_test)\n",
    "print('AUC:{:.3f} Recall:{:.3f} Precision:{:.3f}'.format(\n",
    "        metrics.roc_auc_score(original_y_test, predict3),\n",
    "        metrics.recall_score(original_y_test, predict3),\n",
    "        metrics.precision_score(original_y_test, predict3)\n",
    "    ))"
   ]
  },
  {
   "cell_type": "markdown",
   "metadata": {
    "id": "79C09BEC9F4B4A4885B3F6FD8060F027",
    "jupyter": {},
    "mdEditEnable": false,
    "notebookId": "5f8f357146ba5e003078e0f4",
    "slideshow": {
     "slide_type": "slide"
    },
    "tags": []
   },
   "source": [
    "### 绘制决策树"
   ]
  },
  {
   "cell_type": "code",
   "execution_count": null,
   "metadata": {
    "id": "8E5597F2572747AF897910B9E2AB656A",
    "jupyter": {},
    "notebookId": "5f8f357146ba5e003078e0f4",
    "slideshow": {
     "slide_type": "slide"
    },
    "tags": []
   },
   "outputs": [],
   "source": [
    "!pip install pydotplus==2.0.2 -i https://pypi.tuna.tsinghua.edu.cn/simple  --trusted-host pypi.tuna.tsinghua.edu.cn"
   ]
  },
  {
   "cell_type": "code",
   "execution_count": null,
   "metadata": {
    "id": "17C4FD3425274D9598B819ACD6F1BFA7",
    "jupyter": {},
    "notebookId": "5f8f357146ba5e003078e0f4",
    "slideshow": {
     "slide_type": "slide"
    },
    "tags": []
   },
   "outputs": [],
   "source": [
    "# 基于最优参数构造决策树分类器\n",
    "dt_clf = DecisionTreeClassifier(criterion='entropy', max_depth=3, min_samples_leaf=5) \n",
    "dt_clf.fit(original_X_train, original_y_train.ravel())"
   ]
  },
  {
   "cell_type": "code",
   "execution_count": null,
   "metadata": {
    "hide_input": true,
    "id": "7407F6FCC3594E7B8D7D1A306FF667E1",
    "jupyter": {},
    "mdEditEnable": false,
    "notebookId": "5f8f357146ba5e003078e0f4",
    "slideshow": {
     "slide_type": "slide"
    },
    "tags": []
   },
   "outputs": [],
   "source": [
    "import pydotplus\n",
    "from IPython.display import display, Image\n",
    "\n",
    "dot_data = export_graphviz(dt_clf,  # 决策树模型\n",
    "                            out_file=None, # 输出文件格式\n",
    "                            feature_names=X.columns, # 特征矩阵\n",
    "                            class_names = ['normal', 'fraud'], # 标签，按数字升序\n",
    "                            filled = True, # 由颜色标识不纯度\n",
    "                            rounded =True  # 树节点为圆角矩形\n",
    "                        )\n",
    "                               \n",
    "graph = pydotplus.graph_from_dot_data(dot_data)\n",
    "display(Image(graph.create_png()))"
   ]
  },
  {
   "cell_type": "markdown",
   "metadata": {
    "id": "066E98BFFF2E47B4BB30B53CA7A900AD",
    "jupyter": {},
    "mdEditEnable": false,
    "slideshow": {
     "slide_type": "slide"
    },
    "tags": []
   },
   "source": [
    "# 可视化模型效果"
   ]
  },
  {
   "cell_type": "markdown",
   "metadata": {
    "id": "E5B535B85DE64A51A0B0121F2D585A8C",
    "jupyter": {},
    "mdEditEnable": false,
    "slideshow": {
     "slide_type": "slide"
    },
    "tags": []
   },
   "source": [
    "## 分类器效果对比\n",
    "### 绘制ROC曲线\n",
    "FPR（False Positive Rate，假阳性率）, TPR(True Positive Rate，真阳性率)分别对应ROC曲线的横坐标与纵坐标\n",
    "\n",
    "- **真阳性率**（灵敏度）= **召回率**（Recall）：\n",
    "\n",
    "\t如果一个实例类别是positive，分类器预测结果的类别也是positive的比例。这个指标也叫敏感度（sensitivity）或召回率（recall），描述了分类器对positive类别的**敏感程度**。\n",
    "\n",
    "\t~$TPR = \\frac{TP}{TP+FN}~$ \n",
    "\n",
    "- **假阳性率** = **错检率**（fallout）:\n",
    "\n",
    "\t如果一个实例类别是negative，分类器预测结果的类别是positive的比例。这个指标也叫错检率（fallout）。\n",
    "\n",
    "\t~$FPR = \\frac{FP}{FP+TN}~$  "
   ]
  },
  {
   "cell_type": "code",
   "execution_count": null,
   "metadata": {
    "hide_input": true,
    "id": "6156AA29B36C42AC862DD6C8924219F6",
    "jupyter": {},
    "slideshow": {
     "slide_type": "slide"
    },
    "tags": []
   },
   "outputs": [],
   "source": [
    "# 逻辑回归\n",
    "fpr, tpr, thresholds = roc_curve(original_y_test, predict2)\n",
    "roc_auc = auc(fpr, tpr)\n",
    "print('Logistic Regression AUC：{:.2f}%'.format(100*roc_auc))\n",
    "\n",
    "# 决策树\n",
    "dt_fpr, dt_tpr, dt_thresholds = roc_curve(original_y_test, predict3)\n",
    "dt_roc_auc = auc(dt_fpr, dt_tpr)\n",
    "print('Decision Tree AUC：{:.2f}%'.format(100*dt_roc_auc))\n",
    "\n",
    "# Plot ROC\n",
    "\n",
    "plt.title('Receiver Operating Characteristic')\n",
    "plt.plot(fpr, tpr, 'b',label='Logistic Regression AUC = %0.3f'% roc_auc)\n",
    "plt.plot(dt_fpr, dt_tpr, 'y', label='Decision Tress AUC = %0.3f'% dt_roc_auc)\n",
    "plt.legend(loc='lower right') # 设置legend的位置\n",
    "plt.plot([0,1],[0,1],'r--') # red, --\n",
    "plt.xlim([-0.1,1.0])\n",
    "plt.ylim([-0.1,1.01])\n",
    "plt.ylabel('True Positive Rate')\n",
    "plt.xlabel('False Positive Rate')\n",
    "plt.show()"
   ]
  },
  {
   "cell_type": "markdown",
   "metadata": {
    "id": "66B879DE565A41D18B14EC40DDF209EE",
    "jupyter": {},
    "mdEditEnable": false,
    "slideshow": {
     "slide_type": "slide"
    },
    "tags": []
   },
   "source": [
    "逻辑回归与决策树两个分类器的ROC曲线几乎重叠，两者都接近左上角，即AUC(Area Under Curve)面积到达`0.898`至`0.899`，说明两个模型效果都还不错（`1`最完美）。最靠近左上角的ROC曲线的点是错误最少的最好阈值（thresholds），其假阳性与假阴性的总数最少。"
   ]
  },
  {
   "cell_type": "markdown",
   "metadata": {
    "id": "87CD6AB7033D4ED784CE0D962AB3A63B",
    "jupyter": {},
    "mdEditEnable": false,
    "notebookId": "5f8f357146ba5e003078e0f4",
    "slideshow": {
     "slide_type": "slide"
    },
    "tags": []
   },
   "source": [
    "虽然进行了平衡样本处理，模型的分类效果有所提高，但是能够获取到更多的欺诈样本数据才是王道！毕竟数据质量决定了模型的上限，再多的优化也只是无限逼近这个上限。"
   ]
  }
 ],
 "metadata": {
  "kernelspec": {
   "display_name": "Python 3 (ipykernel)",
   "language": "python",
   "name": "python3"
  },
  "language_info": {
   "codemirror_mode": {
    "name": "ipython",
    "version": 3
   },
   "file_extension": ".py",
   "mimetype": "text/x-python",
   "name": "python",
   "nbconvert_exporter": "python",
   "pygments_lexer": "ipython3",
   "version": "3.13.4"
  },
  "toc": {
   "base_numbering": 1,
   "nav_menu": {},
   "number_sections": false,
   "sideBar": true,
   "skip_h1_title": false,
   "title_cell": "Table of Contents",
   "title_sidebar": "Contents",
   "toc_cell": true,
   "toc_position": {
    "height": "calc(100% - 180px)",
    "left": "10px",
    "top": "150px",
    "width": "384px"
   },
   "toc_section_display": true,
   "toc_window_display": true
  }
 },
 "nbformat": 4,
 "nbformat_minor": 4
}
