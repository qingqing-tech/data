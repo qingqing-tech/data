{
 "cells": [
  {
   "cell_type": "markdown",
   "metadata": {
    "toc": true
   },
   "source": [
    "<h1>Table of Contents<span class=\"tocSkip\"></span></h1>\n",
    "<div class=\"toc\"><ul class=\"toc-item\"><li><span><a href=\"#1-数据导入及预处理\" data-toc-modified-id=\"1-数据导入及预处理-1\">1 数据导入及预处理</a></span><ul class=\"toc-item\"><li><span><a href=\"#1.1-数据导入\" data-toc-modified-id=\"1.1-数据导入-1.1\">1.1 数据导入</a></span></li><li><span><a href=\"#1.2-数据描述\" data-toc-modified-id=\"1.2-数据描述-1.2\">1.2 数据描述</a></span></li><li><span><a href=\"#1.3-数据预处理\" data-toc-modified-id=\"1.3-数据预处理-1.3\">1.3 数据预处理</a></span></li></ul></li><li><span><a href=\"#2-情感分析\" data-toc-modified-id=\"2-情感分析-2\">2 情感分析</a></span><ul class=\"toc-item\"><li><span><a href=\"#2.1-情感分\" data-toc-modified-id=\"2.1-情感分-2.1\">2.1 情感分</a></span></li><li><span><a href=\"#2.2-情感分直方图\" data-toc-modified-id=\"2.2-情感分直方图-2.2\">2.2 情感分直方图</a></span></li><li><span><a href=\"#2.3-词云图\" data-toc-modified-id=\"2.3-词云图-2.3\">2.3 词云图</a></span></li><li><span><a href=\"#2.4-关键词提取\" data-toc-modified-id=\"2.4-关键词提取-2.4\">2.4 关键词提取</a></span></li></ul></li><li><span><a href=\"#3-积极评论与消极评论\" data-toc-modified-id=\"3-积极评论与消极评论-3\">3 积极评论与消极评论</a></span><ul class=\"toc-item\"><li><span><a href=\"#3.1-积极评论与消极评论占比\" data-toc-modified-id=\"3.1-积极评论与消极评论占比-3.1\">3.1 积极评论与消极评论占比</a></span></li><li><span><a href=\"#3.2-消极评论分析\" data-toc-modified-id=\"3.2-消极评论分析-3.2\">3.2 消极评论分析</a></span></li></ul></li><li><span><a href=\"#总结\" data-toc-modified-id=\"总结-4\">总结</a></span></li></ul></div>"
   ]
  },
  {
   "cell_type": "markdown",
   "metadata": {
    "id": "81A38D2A07064A60B17EB2C8C674BDE1",
    "jupyter": {},
    "mdEditEnable": false,
    "scrolled": false,
    "slideshow": {
     "slide_type": "slide"
    },
    "tags": []
   },
   "source": [
    "# 1 数据导入及预处理"
   ]
  },
  {
   "cell_type": "markdown",
   "metadata": {
    "id": "9D93EA80DAF74CEEB589C2E07D8A2618",
    "jupyter": {},
    "mdEditEnable": false,
    "scrolled": false,
    "slideshow": {
     "slide_type": "slide"
    },
    "tags": []
   },
   "source": [
    "## 1.1 数据导入"
   ]
  },
  {
   "cell_type": "code",
   "execution_count": 4,
   "metadata": {
    "id": "41D69430BBE34AFB99750D09CA40ADE6",
    "jupyter": {},
    "slideshow": {
     "slide_type": "slide"
    },
    "tags": []
   },
   "outputs": [
    {
     "data": {
      "text/html": [
       "<div>\n",
       "<style scoped>\n",
       "    .dataframe tbody tr th:only-of-type {\n",
       "        vertical-align: middle;\n",
       "    }\n",
       "\n",
       "    .dataframe tbody tr th {\n",
       "        vertical-align: top;\n",
       "    }\n",
       "\n",
       "    .dataframe thead th {\n",
       "        text-align: right;\n",
       "    }\n",
       "</style>\n",
       "<table border=\"1\" class=\"dataframe\">\n",
       "  <thead>\n",
       "    <tr style=\"text-align: right;\">\n",
       "      <th></th>\n",
       "      <th>sku_id</th>\n",
       "      <th>_id</th>\n",
       "      <th>item_name</th>\n",
       "      <th>comment_id</th>\n",
       "      <th>content</th>\n",
       "      <th>creation_time</th>\n",
       "      <th>reply_count</th>\n",
       "      <th>score</th>\n",
       "      <th>useful_vote_count</th>\n",
       "      <th>useless_vote_count</th>\n",
       "      <th>...</th>\n",
       "      <th>user_province</th>\n",
       "      <th>nickname</th>\n",
       "      <th>user_level_name</th>\n",
       "      <th>user_client</th>\n",
       "      <th>user_client_show</th>\n",
       "      <th>is_mobile</th>\n",
       "      <th>days</th>\n",
       "      <th>reference_time</th>\n",
       "      <th>after_days</th>\n",
       "      <th>after_user_comment</th>\n",
       "    </tr>\n",
       "  </thead>\n",
       "  <tbody>\n",
       "    <tr>\n",
       "      <th>0</th>\n",
       "      <td>7534113</td>\n",
       "      <td>03b51aa9-2b5e-41c3-a40b-343164a1d23a</td>\n",
       "      <td>comment</td>\n",
       "      <td>11801751173</td>\n",
       "      <td>还可以刷脸解锁，帮朋友买的，她很满意</td>\n",
       "      <td>2018-08-13 12:24:59</td>\n",
       "      <td>0</td>\n",
       "      <td>5</td>\n",
       "      <td>0</td>\n",
       "      <td>0</td>\n",
       "      <td>...</td>\n",
       "      <td>NaN</td>\n",
       "      <td>k***0</td>\n",
       "      <td>PLUS会员</td>\n",
       "      <td>2</td>\n",
       "      <td>来自京东iPhone客户端</td>\n",
       "      <td>1.0</td>\n",
       "      <td>4.0</td>\n",
       "      <td>2018-08-09 13:38:15</td>\n",
       "      <td>0.0</td>\n",
       "      <td>NO_MESSAGE</td>\n",
       "    </tr>\n",
       "    <tr>\n",
       "      <th>1</th>\n",
       "      <td>7534113</td>\n",
       "      <td>03b51aa9-2b5e-41c3-a40b-343164a1d23a</td>\n",
       "      <td>comment</td>\n",
       "      <td>11525358140</td>\n",
       "      <td>第一次买vivo，真心不错，1498的机子，没想到照相很清晰，性价比很高，买值了，还送了小音...</td>\n",
       "      <td>2018-05-27 17:49:17</td>\n",
       "      <td>7</td>\n",
       "      <td>5</td>\n",
       "      <td>19</td>\n",
       "      <td>0</td>\n",
       "      <td>...</td>\n",
       "      <td>NaN</td>\n",
       "      <td>呢***呐</td>\n",
       "      <td>PLUS会员</td>\n",
       "      <td>4</td>\n",
       "      <td>来自京东Android客户端</td>\n",
       "      <td>1.0</td>\n",
       "      <td>5.0</td>\n",
       "      <td>2018-05-22 09:32:37</td>\n",
       "      <td>0.0</td>\n",
       "      <td>NO_MESSAGE</td>\n",
       "    </tr>\n",
       "  </tbody>\n",
       "</table>\n",
       "<p>2 rows × 21 columns</p>\n",
       "</div>"
      ],
      "text/plain": [
       "    sku_id                                   _id item_name   comment_id  \\\n",
       "0  7534113  03b51aa9-2b5e-41c3-a40b-343164a1d23a   comment  11801751173   \n",
       "1  7534113  03b51aa9-2b5e-41c3-a40b-343164a1d23a   comment  11525358140   \n",
       "\n",
       "                                             content        creation_time  \\\n",
       "0                                 还可以刷脸解锁，帮朋友买的，她很满意  2018-08-13 12:24:59   \n",
       "1  第一次买vivo，真心不错，1498的机子，没想到照相很清晰，性价比很高，买值了，还送了小音...  2018-05-27 17:49:17   \n",
       "\n",
       "   reply_count  score  useful_vote_count  useless_vote_count  ...  \\\n",
       "0            0      5                  0                   0  ...   \n",
       "1            7      5                 19                   0  ...   \n",
       "\n",
       "   user_province  nickname user_level_name user_client  user_client_show  \\\n",
       "0            NaN     k***0          PLUS会员           2     来自京东iPhone客户端   \n",
       "1            NaN     呢***呐          PLUS会员           4    来自京东Android客户端   \n",
       "\n",
       "  is_mobile  days       reference_time after_days  after_user_comment  \n",
       "0       1.0   4.0  2018-08-09 13:38:15        0.0          NO_MESSAGE  \n",
       "1       1.0   5.0  2018-05-22 09:32:37        0.0          NO_MESSAGE  \n",
       "\n",
       "[2 rows x 21 columns]"
      ]
     },
     "execution_count": 4,
     "metadata": {},
     "output_type": "execute_result"
    }
   ],
   "source": [
    "import pandas as pd\n",
    "data = pd.read_csv('./京东评论数据.csv')\n",
    "data.head(2)"
   ]
  },
  {
   "cell_type": "markdown",
   "metadata": {
    "id": "7DBB30B0961E49A399FFD8FE1BBFA1B5",
    "jupyter": {},
    "mdEditEnable": false,
    "scrolled": false,
    "slideshow": {
     "slide_type": "slide"
    },
    "tags": []
   },
   "source": [
    "## 1.2 数据描述\n"
   ]
  },
  {
   "cell_type": "code",
   "execution_count": 5,
   "metadata": {
    "id": "F64A5F58750A4550895785F374B68D78",
    "jupyter": {},
    "slideshow": {
     "slide_type": "slide"
    },
    "tags": []
   },
   "outputs": [
    {
     "data": {
      "text/html": [
       "<div>\n",
       "<style scoped>\n",
       "    .dataframe tbody tr th:only-of-type {\n",
       "        vertical-align: middle;\n",
       "    }\n",
       "\n",
       "    .dataframe tbody tr th {\n",
       "        vertical-align: top;\n",
       "    }\n",
       "\n",
       "    .dataframe thead th {\n",
       "        text-align: right;\n",
       "    }\n",
       "</style>\n",
       "<table border=\"1\" class=\"dataframe\">\n",
       "  <thead>\n",
       "    <tr style=\"text-align: right;\">\n",
       "      <th></th>\n",
       "      <th>sku_id</th>\n",
       "      <th>comment_id</th>\n",
       "      <th>reply_count</th>\n",
       "      <th>score</th>\n",
       "      <th>useful_vote_count</th>\n",
       "      <th>useless_vote_count</th>\n",
       "      <th>user_level_id</th>\n",
       "      <th>user_province</th>\n",
       "      <th>user_client</th>\n",
       "      <th>is_mobile</th>\n",
       "      <th>days</th>\n",
       "      <th>after_days</th>\n",
       "    </tr>\n",
       "  </thead>\n",
       "  <tbody>\n",
       "    <tr>\n",
       "      <th>count</th>\n",
       "      <td>3.637000e+03</td>\n",
       "      <td>3.637000e+03</td>\n",
       "      <td>3637.000000</td>\n",
       "      <td>3637.000000</td>\n",
       "      <td>3637.000000</td>\n",
       "      <td>3637.0</td>\n",
       "      <td>3637.000000</td>\n",
       "      <td>0.0</td>\n",
       "      <td>3637.000000</td>\n",
       "      <td>3636.000000</td>\n",
       "      <td>3636.000000</td>\n",
       "      <td>3636.000000</td>\n",
       "    </tr>\n",
       "    <tr>\n",
       "      <th>mean</th>\n",
       "      <td>7.936312e+09</td>\n",
       "      <td>1.161979e+10</td>\n",
       "      <td>6.291724</td>\n",
       "      <td>4.880946</td>\n",
       "      <td>13.532307</td>\n",
       "      <td>0.0</td>\n",
       "      <td>75.692329</td>\n",
       "      <td>NaN</td>\n",
       "      <td>4.480066</td>\n",
       "      <td>0.894114</td>\n",
       "      <td>9.451045</td>\n",
       "      <td>1.475248</td>\n",
       "    </tr>\n",
       "    <tr>\n",
       "      <th>std</th>\n",
       "      <td>1.165137e+10</td>\n",
       "      <td>2.520618e+08</td>\n",
       "      <td>41.624571</td>\n",
       "      <td>0.591341</td>\n",
       "      <td>72.564442</td>\n",
       "      <td>0.0</td>\n",
       "      <td>21.125683</td>\n",
       "      <td>NaN</td>\n",
       "      <td>4.644212</td>\n",
       "      <td>0.307733</td>\n",
       "      <td>13.169849</td>\n",
       "      <td>9.862867</td>\n",
       "    </tr>\n",
       "    <tr>\n",
       "      <th>min</th>\n",
       "      <td>1.592994e+06</td>\n",
       "      <td>1.045844e+10</td>\n",
       "      <td>0.000000</td>\n",
       "      <td>1.000000</td>\n",
       "      <td>0.000000</td>\n",
       "      <td>0.0</td>\n",
       "      <td>50.000000</td>\n",
       "      <td>NaN</td>\n",
       "      <td>0.000000</td>\n",
       "      <td>0.000000</td>\n",
       "      <td>0.000000</td>\n",
       "      <td>0.000000</td>\n",
       "    </tr>\n",
       "    <tr>\n",
       "      <th>25%</th>\n",
       "      <td>5.920651e+06</td>\n",
       "      <td>1.155459e+10</td>\n",
       "      <td>0.000000</td>\n",
       "      <td>5.000000</td>\n",
       "      <td>0.000000</td>\n",
       "      <td>0.0</td>\n",
       "      <td>61.000000</td>\n",
       "      <td>NaN</td>\n",
       "      <td>2.000000</td>\n",
       "      <td>1.000000</td>\n",
       "      <td>2.000000</td>\n",
       "      <td>0.000000</td>\n",
       "    </tr>\n",
       "    <tr>\n",
       "      <th>50%</th>\n",
       "      <td>7.651903e+06</td>\n",
       "      <td>1.174154e+10</td>\n",
       "      <td>0.000000</td>\n",
       "      <td>5.000000</td>\n",
       "      <td>0.000000</td>\n",
       "      <td>0.0</td>\n",
       "      <td>62.000000</td>\n",
       "      <td>NaN</td>\n",
       "      <td>4.000000</td>\n",
       "      <td>1.000000</td>\n",
       "      <td>4.000000</td>\n",
       "      <td>0.000000</td>\n",
       "    </tr>\n",
       "    <tr>\n",
       "      <th>75%</th>\n",
       "      <td>2.034912e+10</td>\n",
       "      <td>1.178850e+10</td>\n",
       "      <td>1.000000</td>\n",
       "      <td>5.000000</td>\n",
       "      <td>2.000000</td>\n",
       "      <td>0.0</td>\n",
       "      <td>105.000000</td>\n",
       "      <td>NaN</td>\n",
       "      <td>4.000000</td>\n",
       "      <td>1.000000</td>\n",
       "      <td>11.000000</td>\n",
       "      <td>0.000000</td>\n",
       "    </tr>\n",
       "    <tr>\n",
       "      <th>max</th>\n",
       "      <td>3.032369e+10</td>\n",
       "      <td>1.180889e+10</td>\n",
       "      <td>1355.000000</td>\n",
       "      <td>5.000000</td>\n",
       "      <td>2318.000000</td>\n",
       "      <td>0.0</td>\n",
       "      <td>105.000000</td>\n",
       "      <td>NaN</td>\n",
       "      <td>29.000000</td>\n",
       "      <td>1.000000</td>\n",
       "      <td>191.000000</td>\n",
       "      <td>191.000000</td>\n",
       "    </tr>\n",
       "  </tbody>\n",
       "</table>\n",
       "</div>"
      ],
      "text/plain": [
       "             sku_id    comment_id  reply_count        score  \\\n",
       "count  3.637000e+03  3.637000e+03  3637.000000  3637.000000   \n",
       "mean   7.936312e+09  1.161979e+10     6.291724     4.880946   \n",
       "std    1.165137e+10  2.520618e+08    41.624571     0.591341   \n",
       "min    1.592994e+06  1.045844e+10     0.000000     1.000000   \n",
       "25%    5.920651e+06  1.155459e+10     0.000000     5.000000   \n",
       "50%    7.651903e+06  1.174154e+10     0.000000     5.000000   \n",
       "75%    2.034912e+10  1.178850e+10     1.000000     5.000000   \n",
       "max    3.032369e+10  1.180889e+10  1355.000000     5.000000   \n",
       "\n",
       "       useful_vote_count  useless_vote_count  user_level_id  user_province  \\\n",
       "count        3637.000000              3637.0    3637.000000            0.0   \n",
       "mean           13.532307                 0.0      75.692329            NaN   \n",
       "std            72.564442                 0.0      21.125683            NaN   \n",
       "min             0.000000                 0.0      50.000000            NaN   \n",
       "25%             0.000000                 0.0      61.000000            NaN   \n",
       "50%             0.000000                 0.0      62.000000            NaN   \n",
       "75%             2.000000                 0.0     105.000000            NaN   \n",
       "max          2318.000000                 0.0     105.000000            NaN   \n",
       "\n",
       "       user_client    is_mobile         days   after_days  \n",
       "count  3637.000000  3636.000000  3636.000000  3636.000000  \n",
       "mean      4.480066     0.894114     9.451045     1.475248  \n",
       "std       4.644212     0.307733    13.169849     9.862867  \n",
       "min       0.000000     0.000000     0.000000     0.000000  \n",
       "25%       2.000000     1.000000     2.000000     0.000000  \n",
       "50%       4.000000     1.000000     4.000000     0.000000  \n",
       "75%       4.000000     1.000000    11.000000     0.000000  \n",
       "max      29.000000     1.000000   191.000000   191.000000  "
      ]
     },
     "execution_count": 5,
     "metadata": {},
     "output_type": "execute_result"
    }
   ],
   "source": [
    "data.describe()"
   ]
  },
  {
   "cell_type": "markdown",
   "metadata": {
    "id": "AD6219B5962B40EF944E9B04961F0AB0",
    "jupyter": {},
    "mdEditEnable": false,
    "scrolled": false,
    "slideshow": {
     "slide_type": "slide"
    },
    "tags": []
   },
   "source": [
    "## 1.3 数据预处理"
   ]
  },
  {
   "cell_type": "code",
   "execution_count": 6,
   "metadata": {
    "id": "8F25E4F98E7B44A3972321EDDF275118",
    "jupyter": {},
    "slideshow": {
     "slide_type": "slide"
    },
    "tags": []
   },
   "outputs": [
    {
     "data": {
      "text/html": [
       "<div>\n",
       "<style scoped>\n",
       "    .dataframe tbody tr th:only-of-type {\n",
       "        vertical-align: middle;\n",
       "    }\n",
       "\n",
       "    .dataframe tbody tr th {\n",
       "        vertical-align: top;\n",
       "    }\n",
       "\n",
       "    .dataframe thead th {\n",
       "        text-align: right;\n",
       "    }\n",
       "</style>\n",
       "<table border=\"1\" class=\"dataframe\">\n",
       "  <thead>\n",
       "    <tr style=\"text-align: right;\">\n",
       "      <th></th>\n",
       "      <th>sku_id</th>\n",
       "      <th>content</th>\n",
       "    </tr>\n",
       "  </thead>\n",
       "  <tbody>\n",
       "    <tr>\n",
       "      <th>0</th>\n",
       "      <td>7534113</td>\n",
       "      <td>还可以刷脸解锁，帮朋友买的，她很满意</td>\n",
       "    </tr>\n",
       "    <tr>\n",
       "      <th>1</th>\n",
       "      <td>7534113</td>\n",
       "      <td>第一次买vivo，真心不错，1498的机子，没想到照相很清晰，性价比很高，买值了，还送了小音...</td>\n",
       "    </tr>\n",
       "    <tr>\n",
       "      <th>2</th>\n",
       "      <td>7534113</td>\n",
       "      <td>手机好用快递送的快。</td>\n",
       "    </tr>\n",
       "    <tr>\n",
       "      <th>3</th>\n",
       "      <td>8240587</td>\n",
       "      <td>手机收到。外观设计很好！美观大方。我喜欢！一直使用华为手机。从荣耀七，荣耀八，荣耀九。反正一...</td>\n",
       "    </tr>\n",
       "    <tr>\n",
       "      <th>4</th>\n",
       "      <td>5942439</td>\n",
       "      <td>收到了，挺好的，声音大，电池大，好用发货速度快，非常满意，好好好。</td>\n",
       "    </tr>\n",
       "    <tr>\n",
       "      <th>5</th>\n",
       "      <td>5089275</td>\n",
       "      <td>本来觉得双十一还会便宜的，想不到和11月初的价格差不多，想想还是感觉入手了，早买早享受。我的...</td>\n",
       "    </tr>\n",
       "    <tr>\n",
       "      <th>6</th>\n",
       "      <td>7081550</td>\n",
       "      <td>没有真正意义上的窄边框，不过已经不错了，手机流畅，另外还有51G空间可用，同时试了下近距拍摄...</td>\n",
       "    </tr>\n",
       "    <tr>\n",
       "      <th>7</th>\n",
       "      <td>5663902</td>\n",
       "      <td>幻夜黑颜色很漂亮，2.5D屏幕，圆润。2K屏很清晰，惊艳</td>\n",
       "    </tr>\n",
       "    <tr>\n",
       "      <th>8</th>\n",
       "      <td>7283905</td>\n",
       "      <td>特地用了一段时间才来评价，这手机值得这个价钱，打游戏还行，就是电池很不耐用，摄像头也很突出，...</td>\n",
       "    </tr>\n",
       "    <tr>\n",
       "      <th>9</th>\n",
       "      <td>5001213</td>\n",
       "      <td>机器没得说，价格也合理，虽说仍有不足，但还是比较满意的，首发就抢到了，暂时发现的不足就是扬声...</td>\n",
       "    </tr>\n",
       "  </tbody>\n",
       "</table>\n",
       "</div>"
      ],
      "text/plain": [
       "    sku_id                                            content\n",
       "0  7534113                                 还可以刷脸解锁，帮朋友买的，她很满意\n",
       "1  7534113  第一次买vivo，真心不错，1498的机子，没想到照相很清晰，性价比很高，买值了，还送了小音...\n",
       "2  7534113                                         手机好用快递送的快。\n",
       "3  8240587  手机收到。外观设计很好！美观大方。我喜欢！一直使用华为手机。从荣耀七，荣耀八，荣耀九。反正一...\n",
       "4  5942439                  收到了，挺好的，声音大，电池大，好用发货速度快，非常满意，好好好。\n",
       "5  5089275  本来觉得双十一还会便宜的，想不到和11月初的价格差不多，想想还是感觉入手了，早买早享受。我的...\n",
       "6  7081550  没有真正意义上的窄边框，不过已经不错了，手机流畅，另外还有51G空间可用，同时试了下近距拍摄...\n",
       "7  5663902                       幻夜黑颜色很漂亮，2.5D屏幕，圆润。2K屏很清晰，惊艳\n",
       "8  7283905  特地用了一段时间才来评价，这手机值得这个价钱，打游戏还行，就是电池很不耐用，摄像头也很突出，...\n",
       "9  5001213  机器没得说，价格也合理，虽说仍有不足，但还是比较满意的，首发就抢到了，暂时发现的不足就是扬声..."
      ]
     },
     "execution_count": 6,
     "metadata": {},
     "output_type": "execute_result"
    }
   ],
   "source": [
    "#取出sku_id','content'字段\n",
    "data1 = data[['sku_id','content']]\n",
    "data1.head(10)"
   ]
  },
  {
   "cell_type": "markdown",
   "metadata": {
    "id": "21E1DE1F752B4EEE966767F38EE6D810",
    "jupyter": {},
    "mdEditEnable": false,
    "scrolled": false,
    "slideshow": {
     "slide_type": "slide"
    },
    "tags": []
   },
   "source": [
    "# 2 情感分析"
   ]
  },
  {
   "cell_type": "markdown",
   "metadata": {
    "id": "7F87ECBC464B435D8B2CEAEC6F80D83F",
    "jupyter": {},
    "mdEditEnable": false,
    "slideshow": {
     "slide_type": "slide"
    },
    "tags": []
   },
   "source": [
    "## 2.1 情感分"
   ]
  },
  {
   "cell_type": "code",
   "execution_count": 7,
   "metadata": {
    "id": "97D6A30697F6491689FEDE36B3EA2557",
    "jupyter": {},
    "slideshow": {
     "slide_type": "slide"
    },
    "tags": []
   },
   "outputs": [
    {
     "name": "stdout",
     "output_type": "stream",
     "text": [
      "Looking in indexes: https://pypi.tuna.tsinghua.edu.cn/simple\n",
      "Requirement already satisfied: snownlp in /Library/Frameworks/Python.framework/Versions/3.13/lib/python3.13/site-packages (0.12.3)\n"
     ]
    }
   ],
   "source": [
    "#安装snownlp包\n",
    "!pip3 install snownlp  -i https://pypi.tuna.tsinghua.edu.cn/simple"
   ]
  },
  {
   "cell_type": "code",
   "execution_count": 8,
   "metadata": {
    "id": "1683248534BF491A81E8127E3B3D44AD",
    "jupyter": {},
    "slideshow": {
     "slide_type": "slide"
    },
    "tags": []
   },
   "outputs": [
    {
     "name": "stderr",
     "output_type": "stream",
     "text": [
      "/var/folders/s0/36963sx96f9g91qhn5ndxwk40000gn/T/ipykernel_2459/3076741958.py:2: SettingWithCopyWarning: \n",
      "A value is trying to be set on a copy of a slice from a DataFrame.\n",
      "Try using .loc[row_indexer,col_indexer] = value instead\n",
      "\n",
      "See the caveats in the documentation: https://pandas.pydata.org/pandas-docs/stable/user_guide/indexing.html#returning-a-view-versus-a-copy\n",
      "  data1['emotion'] = data1['content'].apply(lambda x:SnowNLP(x).sentiments)\n"
     ]
    },
    {
     "data": {
      "text/html": [
       "<div>\n",
       "<style scoped>\n",
       "    .dataframe tbody tr th:only-of-type {\n",
       "        vertical-align: middle;\n",
       "    }\n",
       "\n",
       "    .dataframe tbody tr th {\n",
       "        vertical-align: top;\n",
       "    }\n",
       "\n",
       "    .dataframe thead th {\n",
       "        text-align: right;\n",
       "    }\n",
       "</style>\n",
       "<table border=\"1\" class=\"dataframe\">\n",
       "  <thead>\n",
       "    <tr style=\"text-align: right;\">\n",
       "      <th></th>\n",
       "      <th>sku_id</th>\n",
       "      <th>content</th>\n",
       "      <th>emotion</th>\n",
       "    </tr>\n",
       "  </thead>\n",
       "  <tbody>\n",
       "    <tr>\n",
       "      <th>0</th>\n",
       "      <td>7534113</td>\n",
       "      <td>还可以刷脸解锁，帮朋友买的，她很满意</td>\n",
       "      <td>0.470635</td>\n",
       "    </tr>\n",
       "    <tr>\n",
       "      <th>1</th>\n",
       "      <td>7534113</td>\n",
       "      <td>第一次买vivo，真心不错，1498的机子，没想到照相很清晰，性价比很高，买值了，还送了小音...</td>\n",
       "      <td>0.999999</td>\n",
       "    </tr>\n",
       "    <tr>\n",
       "      <th>2</th>\n",
       "      <td>7534113</td>\n",
       "      <td>手机好用快递送的快。</td>\n",
       "      <td>0.561609</td>\n",
       "    </tr>\n",
       "    <tr>\n",
       "      <th>3</th>\n",
       "      <td>8240587</td>\n",
       "      <td>手机收到。外观设计很好！美观大方。我喜欢！一直使用华为手机。从荣耀七，荣耀八，荣耀九。反正一...</td>\n",
       "      <td>0.868183</td>\n",
       "    </tr>\n",
       "    <tr>\n",
       "      <th>4</th>\n",
       "      <td>5942439</td>\n",
       "      <td>收到了，挺好的，声音大，电池大，好用发货速度快，非常满意，好好好。</td>\n",
       "      <td>0.983088</td>\n",
       "    </tr>\n",
       "    <tr>\n",
       "      <th>5</th>\n",
       "      <td>5089275</td>\n",
       "      <td>本来觉得双十一还会便宜的，想不到和11月初的价格差不多，想想还是感觉入手了，早买早享受。我的...</td>\n",
       "      <td>0.984574</td>\n",
       "    </tr>\n",
       "    <tr>\n",
       "      <th>6</th>\n",
       "      <td>7081550</td>\n",
       "      <td>没有真正意义上的窄边框，不过已经不错了，手机流畅，另外还有51G空间可用，同时试了下近距拍摄...</td>\n",
       "      <td>0.956682</td>\n",
       "    </tr>\n",
       "    <tr>\n",
       "      <th>7</th>\n",
       "      <td>5663902</td>\n",
       "      <td>幻夜黑颜色很漂亮，2.5D屏幕，圆润。2K屏很清晰，惊艳</td>\n",
       "      <td>0.999839</td>\n",
       "    </tr>\n",
       "    <tr>\n",
       "      <th>8</th>\n",
       "      <td>7283905</td>\n",
       "      <td>特地用了一段时间才来评价，这手机值得这个价钱，打游戏还行，就是电池很不耐用，摄像头也很突出，...</td>\n",
       "      <td>0.996540</td>\n",
       "    </tr>\n",
       "    <tr>\n",
       "      <th>9</th>\n",
       "      <td>5001213</td>\n",
       "      <td>机器没得说，价格也合理，虽说仍有不足，但还是比较满意的，首发就抢到了，暂时发现的不足就是扬声...</td>\n",
       "      <td>0.992436</td>\n",
       "    </tr>\n",
       "  </tbody>\n",
       "</table>\n",
       "</div>"
      ],
      "text/plain": [
       "    sku_id                                            content   emotion\n",
       "0  7534113                                 还可以刷脸解锁，帮朋友买的，她很满意  0.470635\n",
       "1  7534113  第一次买vivo，真心不错，1498的机子，没想到照相很清晰，性价比很高，买值了，还送了小音...  0.999999\n",
       "2  7534113                                         手机好用快递送的快。  0.561609\n",
       "3  8240587  手机收到。外观设计很好！美观大方。我喜欢！一直使用华为手机。从荣耀七，荣耀八，荣耀九。反正一...  0.868183\n",
       "4  5942439                  收到了，挺好的，声音大，电池大，好用发货速度快，非常满意，好好好。  0.983088\n",
       "5  5089275  本来觉得双十一还会便宜的，想不到和11月初的价格差不多，想想还是感觉入手了，早买早享受。我的...  0.984574\n",
       "6  7081550  没有真正意义上的窄边框，不过已经不错了，手机流畅，另外还有51G空间可用，同时试了下近距拍摄...  0.956682\n",
       "7  5663902                       幻夜黑颜色很漂亮，2.5D屏幕，圆润。2K屏很清晰，惊艳  0.999839\n",
       "8  7283905  特地用了一段时间才来评价，这手机值得这个价钱，打游戏还行，就是电池很不耐用，摄像头也很突出，...  0.996540\n",
       "9  5001213  机器没得说，价格也合理，虽说仍有不足，但还是比较满意的，首发就抢到了，暂时发现的不足就是扬声...  0.992436"
      ]
     },
     "execution_count": 8,
     "metadata": {},
     "output_type": "execute_result"
    }
   ],
   "source": [
    "from snownlp import SnowNLP\n",
    "data1['emotion'] = data1['content'].apply(lambda x:SnowNLP(x).sentiments)\n",
    "data1.head(10)"
   ]
  },
  {
   "cell_type": "code",
   "execution_count": 9,
   "metadata": {
    "id": "A3FE5DF1375B4579BFC746E07A00C3F1",
    "jupyter": {},
    "slideshow": {
     "slide_type": "slide"
    },
    "tags": []
   },
   "outputs": [
    {
     "data": {
      "text/html": [
       "<div>\n",
       "<style scoped>\n",
       "    .dataframe tbody tr th:only-of-type {\n",
       "        vertical-align: middle;\n",
       "    }\n",
       "\n",
       "    .dataframe tbody tr th {\n",
       "        vertical-align: top;\n",
       "    }\n",
       "\n",
       "    .dataframe thead th {\n",
       "        text-align: right;\n",
       "    }\n",
       "</style>\n",
       "<table border=\"1\" class=\"dataframe\">\n",
       "  <thead>\n",
       "    <tr style=\"text-align: right;\">\n",
       "      <th></th>\n",
       "      <th>sku_id</th>\n",
       "      <th>emotion</th>\n",
       "    </tr>\n",
       "  </thead>\n",
       "  <tbody>\n",
       "    <tr>\n",
       "      <th>count</th>\n",
       "      <td>3.637000e+03</td>\n",
       "      <td>3637.000000</td>\n",
       "    </tr>\n",
       "    <tr>\n",
       "      <th>mean</th>\n",
       "      <td>7.936312e+09</td>\n",
       "      <td>0.746161</td>\n",
       "    </tr>\n",
       "    <tr>\n",
       "      <th>std</th>\n",
       "      <td>1.165137e+10</td>\n",
       "      <td>0.354481</td>\n",
       "    </tr>\n",
       "    <tr>\n",
       "      <th>min</th>\n",
       "      <td>1.592994e+06</td>\n",
       "      <td>0.000000</td>\n",
       "    </tr>\n",
       "    <tr>\n",
       "      <th>25%</th>\n",
       "      <td>5.920651e+06</td>\n",
       "      <td>0.562240</td>\n",
       "    </tr>\n",
       "    <tr>\n",
       "      <th>50%</th>\n",
       "      <td>7.651903e+06</td>\n",
       "      <td>0.962449</td>\n",
       "    </tr>\n",
       "    <tr>\n",
       "      <th>75%</th>\n",
       "      <td>2.034912e+10</td>\n",
       "      <td>0.999123</td>\n",
       "    </tr>\n",
       "    <tr>\n",
       "      <th>max</th>\n",
       "      <td>3.032369e+10</td>\n",
       "      <td>1.000000</td>\n",
       "    </tr>\n",
       "  </tbody>\n",
       "</table>\n",
       "</div>"
      ],
      "text/plain": [
       "             sku_id      emotion\n",
       "count  3.637000e+03  3637.000000\n",
       "mean   7.936312e+09     0.746161\n",
       "std    1.165137e+10     0.354481\n",
       "min    1.592994e+06     0.000000\n",
       "25%    5.920651e+06     0.562240\n",
       "50%    7.651903e+06     0.962449\n",
       "75%    2.034912e+10     0.999123\n",
       "max    3.032369e+10     1.000000"
      ]
     },
     "execution_count": 9,
     "metadata": {},
     "output_type": "execute_result"
    }
   ],
   "source": [
    "data1.describe()"
   ]
  },
  {
   "cell_type": "markdown",
   "metadata": {
    "id": "70DFE4917ABF4BDFA34EF9CA2A166917",
    "jupyter": {},
    "mdEditEnable": false,
    "slideshow": {
     "slide_type": "slide"
    },
    "tags": []
   },
   "source": [
    "* emotion平均值为0.74，中位数为0.96，25%分位数为0.56，可见不到25%的数据造成了整体均值的较大下移。"
   ]
  },
  {
   "cell_type": "markdown",
   "metadata": {
    "id": "493D7C07A5F448FAB73903F39A80F4B8",
    "jupyter": {},
    "mdEditEnable": false,
    "slideshow": {
     "slide_type": "slide"
    },
    "tags": []
   },
   "source": [
    "## 2.2 情感分直方图"
   ]
  },
  {
   "cell_type": "code",
   "execution_count": 10,
   "metadata": {
    "id": "5DEFF7FF57664B76AC6244A08A5EBDD1",
    "jupyter": {},
    "slideshow": {
     "slide_type": "slide"
    },
    "tags": []
   },
   "outputs": [
    {
     "name": "stderr",
     "output_type": "stream",
     "text": [
      "findfont: Generic family 'sans-serif' not found because none of the following families were found: SimHei\n",
      "findfont: Generic family 'sans-serif' not found because none of the following families were found: SimHei\n",
      "findfont: Generic family 'sans-serif' not found because none of the following families were found: SimHei\n",
      "findfont: Generic family 'sans-serif' not found because none of the following families were found: SimHei\n",
      "findfont: Generic family 'sans-serif' not found because none of the following families were found: SimHei\n",
      "findfont: Generic family 'sans-serif' not found because none of the following families were found: SimHei\n",
      "findfont: Generic family 'sans-serif' not found because none of the following families were found: SimHei\n",
      "/Library/Frameworks/Python.framework/Versions/3.13/lib/python3.13/site-packages/IPython/core/pylabtools.py:170: UserWarning: Glyph 25968 (\\N{CJK UNIFIED IDEOGRAPH-6570}) missing from font(s) DejaVu Sans.\n",
      "  fig.canvas.print_figure(bytes_io, **kw)\n",
      "/Library/Frameworks/Python.framework/Versions/3.13/lib/python3.13/site-packages/IPython/core/pylabtools.py:170: UserWarning: Glyph 37327 (\\N{CJK UNIFIED IDEOGRAPH-91CF}) missing from font(s) DejaVu Sans.\n",
      "  fig.canvas.print_figure(bytes_io, **kw)\n",
      "findfont: Generic family 'sans-serif' not found because none of the following families were found: SimHei\n",
      "findfont: Generic family 'sans-serif' not found because none of the following families were found: SimHei\n",
      "/Library/Frameworks/Python.framework/Versions/3.13/lib/python3.13/site-packages/IPython/core/pylabtools.py:170: UserWarning: Glyph 24773 (\\N{CJK UNIFIED IDEOGRAPH-60C5}) missing from font(s) DejaVu Sans.\n",
      "  fig.canvas.print_figure(bytes_io, **kw)\n",
      "/Library/Frameworks/Python.framework/Versions/3.13/lib/python3.13/site-packages/IPython/core/pylabtools.py:170: UserWarning: Glyph 24863 (\\N{CJK UNIFIED IDEOGRAPH-611F}) missing from font(s) DejaVu Sans.\n",
      "  fig.canvas.print_figure(bytes_io, **kw)\n",
      "/Library/Frameworks/Python.framework/Versions/3.13/lib/python3.13/site-packages/IPython/core/pylabtools.py:170: UserWarning: Glyph 20998 (\\N{CJK UNIFIED IDEOGRAPH-5206}) missing from font(s) DejaVu Sans.\n",
      "  fig.canvas.print_figure(bytes_io, **kw)\n",
      "/Library/Frameworks/Python.framework/Versions/3.13/lib/python3.13/site-packages/IPython/core/pylabtools.py:170: UserWarning: Glyph 30452 (\\N{CJK UNIFIED IDEOGRAPH-76F4}) missing from font(s) DejaVu Sans.\n",
      "  fig.canvas.print_figure(bytes_io, **kw)\n",
      "/Library/Frameworks/Python.framework/Versions/3.13/lib/python3.13/site-packages/IPython/core/pylabtools.py:170: UserWarning: Glyph 26041 (\\N{CJK UNIFIED IDEOGRAPH-65B9}) missing from font(s) DejaVu Sans.\n",
      "  fig.canvas.print_figure(bytes_io, **kw)\n",
      "/Library/Frameworks/Python.framework/Versions/3.13/lib/python3.13/site-packages/IPython/core/pylabtools.py:170: UserWarning: Glyph 22270 (\\N{CJK UNIFIED IDEOGRAPH-56FE}) missing from font(s) DejaVu Sans.\n",
      "  fig.canvas.print_figure(bytes_io, **kw)\n",
      "findfont: Generic family 'sans-serif' not found because none of the following families were found: SimHei\n",
      "findfont: Generic family 'sans-serif' not found because none of the following families were found: SimHei\n",
      "findfont: Generic family 'sans-serif' not found because none of the following families were found: SimHei\n",
      "findfont: Generic family 'sans-serif' not found because none of the following families were found: SimHei\n",
      "findfont: Generic family 'sans-serif' not found because none of the following families were found: SimHei\n",
      "findfont: Generic family 'sans-serif' not found because none of the following families were found: SimHei\n",
      "findfont: Generic family 'sans-serif' not found because none of the following families were found: SimHei\n",
      "findfont: Generic family 'sans-serif' not found because none of the following families were found: SimHei\n",
      "findfont: Generic family 'sans-serif' not found because none of the following families were found: SimHei\n",
      "findfont: Generic family 'sans-serif' not found because none of the following families were found: SimHei\n",
      "findfont: Generic family 'sans-serif' not found because none of the following families were found: SimHei\n",
      "findfont: Generic family 'sans-serif' not found because none of the following families were found: SimHei\n",
      "findfont: Generic family 'sans-serif' not found because none of the following families were found: SimHei\n",
      "findfont: Generic family 'sans-serif' not found because none of the following families were found: SimHei\n",
      "findfont: Generic family 'sans-serif' not found because none of the following families were found: SimHei\n",
      "findfont: Generic family 'sans-serif' not found because none of the following families were found: SimHei\n",
      "findfont: Generic family 'sans-serif' not found because none of the following families were found: SimHei\n",
      "findfont: Generic family 'sans-serif' not found because none of the following families were found: SimHei\n",
      "findfont: Generic family 'sans-serif' not found because none of the following families were found: SimHei\n",
      "findfont: Generic family 'sans-serif' not found because none of the following families were found: SimHei\n",
      "findfont: Generic family 'sans-serif' not found because none of the following families were found: SimHei\n",
      "findfont: Generic family 'sans-serif' not found because none of the following families were found: SimHei\n",
      "findfont: Generic family 'sans-serif' not found because none of the following families were found: SimHei\n",
      "findfont: Generic family 'sans-serif' not found because none of the following families were found: SimHei\n",
      "findfont: Generic family 'sans-serif' not found because none of the following families were found: SimHei\n",
      "findfont: Generic family 'sans-serif' not found because none of the following families were found: SimHei\n",
      "findfont: Generic family 'sans-serif' not found because none of the following families were found: SimHei\n",
      "findfont: Generic family 'sans-serif' not found because none of the following families were found: SimHei\n",
      "findfont: Generic family 'sans-serif' not found because none of the following families were found: SimHei\n",
      "findfont: Generic family 'sans-serif' not found because none of the following families were found: SimHei\n",
      "findfont: Generic family 'sans-serif' not found because none of the following families were found: SimHei\n",
      "findfont: Generic family 'sans-serif' not found because none of the following families were found: SimHei\n",
      "findfont: Generic family 'sans-serif' not found because none of the following families were found: SimHei\n",
      "findfont: Generic family 'sans-serif' not found because none of the following families were found: SimHei\n",
      "findfont: Generic family 'sans-serif' not found because none of the following families were found: SimHei\n",
      "findfont: Generic family 'sans-serif' not found because none of the following families were found: SimHei\n",
      "findfont: Generic family 'sans-serif' not found because none of the following families were found: SimHei\n"
     ]
    },
    {
     "data": {
      "image/png": "[encoded data removed]",
      "text/plain": [
       "<Figure size 640x480 with 1 Axes>"
      ]
     },
     "metadata": {},
     "output_type": "display_data"
    }
   ],
   "source": [
    "#情感分直方图\n",
    "import matplotlib.pyplot as plt\n",
    "import numpy as np\n",
    "\n",
    "plt.rcParams['font.sans-serif']=['SimHei']\n",
    "plt.rcParams['axes.unicode_minus'] = False\n",
    "\n",
    "bins=np.arange(0,1.1,0.1)\n",
    "plt.hist(data1['emotion'],bins,color='#4F94CD',alpha=0.9)\n",
    "plt.xlim(0,1)\n",
    "plt.xlabel('情感分')\n",
    "plt.ylabel('数量')\n",
    "plt.title('情感分直方图')\n",
    "\n",
    "plt.show()"
   ]
  },
  {
   "cell_type": "markdown",
   "metadata": {
    "id": "E9F9C2E88ECB4B1C8B087C0F055F5EBE",
    "jupyter": {},
    "mdEditEnable": false,
    "slideshow": {
     "slide_type": "slide"
    },
    "tags": []
   },
   "source": [
    "* 由直方图可见，评论内容两级分化较为严重；\n",
    "\n",
    "* 3637条评论中有约2200条评论情感分在[0.9，1]区间内；同时，有约500条评论情感分在[0，0.1]区间内。"
   ]
  },
  {
   "cell_type": "markdown",
   "metadata": {
    "id": "E7E8A616E41043B88AE883B793977A28",
    "jupyter": {},
    "mdEditEnable": false,
    "slideshow": {
     "slide_type": "slide"
    },
    "tags": []
   },
   "source": [
    "## 2.3 词云图"
   ]
  },
  {
   "cell_type": "code",
   "execution_count": null,
   "metadata": {
    "id": "437477A06D8D4062A9FEEF553FCBBB23",
    "jupyter": {},
    "slideshow": {
     "slide_type": "slide"
    },
    "tags": []
   },
   "outputs": [],
   "source": [
    "from wordcloud import WordCloud\n",
    "import jieba\n",
    "w = WordCloud()\n",
    "text = ''\n",
    "for s in data['content']:\n",
    "    text += s\n",
    "data_cut = ' '.join(jieba.lcut(text))\n",
    "\n",
    "w = WordCloud(font_path=\"./SimHei.ttf\",\n",
    "                      stopwords=['的','我','了','是','和','都','就','用'],  # 去掉停用词\n",
    "                      #max_words=100,\n",
    "                      width=2000,\n",
    "                      height=1200).generate(data_cut)\n",
    "# 保存词云\n",
    "w.to_file('词云图.png')\n",
    "# 显示词云文件\n",
    "plt.imshow(w)\n",
    "plt.axis(\"off\")\n",
    "plt.show()"
   ]
  },
  {
   "cell_type": "markdown",
   "metadata": {
    "id": "8832768E2A964FDD9B60C543D69C1165",
    "jupyter": {},
    "mdEditEnable": false,
    "slideshow": {
     "slide_type": "slide"
    },
    "tags": []
   },
   "source": [
    "## 2.4 关键词提取"
   ]
  },
  {
   "cell_type": "code",
   "execution_count": null,
   "metadata": {
    "id": "07DF150661204688887EF06157FF5551",
    "jupyter": {},
    "slideshow": {
     "slide_type": "slide"
    },
    "tags": []
   },
   "outputs": [],
   "source": [
    "#关键词top10\n",
    "from jieba import analyse \n",
    "key_words = jieba.analyse.extract_tags(sentence=text, topK=10, withWeight=True, allowPOS=())\n",
    "key_words"
   ]
  },
  {
   "cell_type": "markdown",
   "metadata": {
    "id": "D0302ED8E47B470F84BCD56B6B6F63E4",
    "jupyter": {},
    "mdEditEnable": false,
    "slideshow": {
     "slide_type": "slide"
    },
    "tags": []
   },
   "source": [
    "* 以上关键词显示，消费者比较在意手机的“屏幕”“拍照”“手感”等特性，“华为”“小米”是出现频次最高的两个手机品牌。"
   ]
  },
  {
   "cell_type": "markdown",
   "metadata": {
    "id": "F61861A1954A4A0DAA076FE5CF958476",
    "jupyter": {},
    "mdEditEnable": false,
    "slideshow": {
     "slide_type": "slide"
    },
    "tags": []
   },
   "source": [
    "# 3 积极评论与消极评论"
   ]
  },
  {
   "cell_type": "markdown",
   "metadata": {
    "id": "A47487C94F8B4C64BF591DDEAC2E7B7D",
    "jupyter": {},
    "mdEditEnable": false,
    "slideshow": {
     "slide_type": "slide"
    },
    "tags": []
   },
   "source": [
    "## 3.1 积极评论与消极评论占比"
   ]
  },
  {
   "cell_type": "code",
   "execution_count": null,
   "metadata": {
    "id": "733200C4B7014B9F9E16B3FC0B26F99B",
    "jupyter": {},
    "slideshow": {
     "slide_type": "slide"
    },
    "tags": []
   },
   "outputs": [],
   "source": [
    "#计算积极评论与消极评论各自的数目\n",
    "pos = 0\n",
    "neg = 0\n",
    "for i in data1['emotion']:\n",
    "    if i >= 0.5:\n",
    "        pos += 1\n",
    "    else:\n",
    "        neg += 1\n",
    "print('积极评论，消极评论数目分别为：',pos,neg)\n"
   ]
  },
  {
   "cell_type": "code",
   "execution_count": null,
   "metadata": {
    "id": "5C268448D2B54B729F17AE7C4D4E9BAD",
    "jupyter": {},
    "slideshow": {
     "slide_type": "slide"
    },
    "tags": []
   },
   "outputs": [],
   "source": [
    "# 积极评论占比\n",
    "import matplotlib.pyplot as plt \n",
    "\n",
    "plt.rcParams['font.sans-serif']=['SimHei']\n",
    "plt.rcParams['axes.unicode_minus'] = False\n",
    "\n",
    "pie_labels='postive','negative'\n",
    "plt.pie([pos,neg],labels=pie_labels,autopct='%1.1f%%',shadow=True)\n",
    "\n",
    "plt.show()"
   ]
  },
  {
   "cell_type": "markdown",
   "metadata": {
    "id": "72D4FC5F4EDA448DBE4A1378676BE572",
    "jupyter": {},
    "mdEditEnable": false,
    "slideshow": {
     "slide_type": "slide"
    },
    "tags": []
   },
   "source": [
    "## 3.2 消极评论分析"
   ]
  },
  {
   "cell_type": "code",
   "execution_count": null,
   "metadata": {
    "id": "CBEFD09E5B634986890477D44F3B5248",
    "jupyter": {},
    "slideshow": {
     "slide_type": "slide"
    },
    "tags": []
   },
   "outputs": [],
   "source": [
    "#获取消极评论数据\n",
    "data2=data1[data1['emotion']<0.5]\n",
    "data2.head(10)"
   ]
  },
  {
   "cell_type": "code",
   "execution_count": null,
   "metadata": {
    "id": "F5D54F6688204FFA8E8306723103C219",
    "jupyter": {},
    "mdEditEnable": false,
    "slideshow": {
     "slide_type": "slide"
    },
    "tags": []
   },
   "outputs": [],
   "source": [
    "#消极评论词云图\n",
    "text2 = ''\n",
    "for s in data2['content']:\n",
    "    text2 += s\n",
    "data_cut2 = ' '.join(jieba.lcut(text2))\n",
    "w.generate(data_cut2)\n",
    "image = w.to_file('消极评论词云.png')\n",
    "\n",
    "# 显示词云文件\n",
    "plt.imshow(w)\n",
    "plt.axis(\"off\")\n",
    "plt.show()"
   ]
  },
  {
   "cell_type": "code",
   "execution_count": null,
   "metadata": {
    "id": "B821E997850B486A92835EDA972C9577",
    "jupyter": {},
    "slideshow": {
     "slide_type": "slide"
    },
    "tags": []
   },
   "outputs": [],
   "source": [
    "#消极评论关键词top10\n",
    "key_words = jieba.analyse.extract_tags(sentence=text2, topK=10, withWeight=True, allowPOS=())\n",
    "key_words"
   ]
  },
  {
   "cell_type": "markdown",
   "metadata": {
    "id": "5D5A679C032041D28E379143DC0BCA72",
    "jupyter": {},
    "mdEditEnable": false,
    "slideshow": {
     "slide_type": "slide"
    },
    "tags": []
   },
   "source": [
    "* 消极评论关键词显示，“屏幕”“快递”“充电”是造成用户体验不佳的几个重要因素；屏幕和充电问题有可能是手机不良品率过高或快递压迫；\n",
    "\n",
    "* 因此平台应注重提高手机品控，降低不良品率；另外应设法提升发货，配送，派件的效率和质量。"
   ]
  },
  {
   "cell_type": "markdown",
   "metadata": {
    "id": "DD93F59EE8254BE88DB79F81F0F9D575",
    "jupyter": {},
    "mdEditEnable": false,
    "slideshow": {
     "slide_type": "slide"
    },
    "tags": []
   },
   "source": [
    "# 总结"
   ]
  },
  {
   "cell_type": "markdown",
   "metadata": {
    "id": "9EC539957A3343078E89FDFA17C23396",
    "jupyter": {},
    "mdEditEnable": false,
    "slideshow": {
     "slide_type": "slide"
    },
    "tags": []
   },
   "source": [
    "本文使用jieba，snownlp，wordcloud，matplotlib等模块对文本数据进行了简要的情感分析及可视化，旨在了解用户使用体验，以此对平台运营提出优化建议。"
   ]
  }
 ],
 "metadata": {
  "kernelspec": {
   "display_name": "Python 3 (ipykernel)",
   "language": "python",
   "name": "python3"
  },
  "language_info": {
   "codemirror_mode": {
    "name": "ipython",
    "version": 3
   },
   "file_extension": ".py",
   "mimetype": "text/x-python",
   "name": "python",
   "nbconvert_exporter": "python",
   "pygments_lexer": "ipython3",
   "version": "3.13.4"
  },
  "toc": {
   "base_numbering": 1,
   "nav_menu": {},
   "number_sections": false,
   "sideBar": true,
   "skip_h1_title": false,
   "title_cell": "Table of Contents",
   "title_sidebar": "Contents",
   "toc_cell": true,
   "toc_position": {
    "height": "calc(100% - 180px)",
    "left": "10px",
    "top": "150px",
    "width": "384px"
   },
   "toc_section_display": true,
   "toc_window_display": true
  }
 },
 "nbformat": 4,
 "nbformat_minor": 4
}
